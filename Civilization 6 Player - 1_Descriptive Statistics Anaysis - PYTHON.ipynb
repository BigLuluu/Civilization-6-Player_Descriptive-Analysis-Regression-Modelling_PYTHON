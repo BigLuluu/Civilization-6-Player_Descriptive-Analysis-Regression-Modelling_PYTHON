{
 "cells": [
  {
   "cell_type": "markdown",
   "metadata": {},
   "source": [
    "# Civilization 6 Players\n",
    "# Descriptive Statistics Analysis \n",
    "# Author: Lu (Christina) Jin"
   ]
  },
  {
   "cell_type": "markdown",
   "metadata": {},
   "source": [
    "# Setup: Import all libraries"
   ]
  },
  {
   "cell_type": "code",
   "execution_count": 148,
   "metadata": {},
   "outputs": [],
   "source": [
    "import os\n",
    "import io\n",
    "import numpy as np\n",
    "import pandas as pd\n",
    "import seaborn as sns\n",
    "import matplotlib.pyplot as plt\n",
    "import matplotlib.ticker as ticker\n",
    "import scipy as scipy\n",
    "\n",
    "import statsmodels.api as sm\n",
    "from matplotlib.ticker import PercentFormatter\n",
    "from scipy import stats\n",
    "from pylab import rcParams\n",
    "rcParams['figure.figsize'] = (20, 10)\n",
    "sns.set_style('darkgrid')\n",
    "plt.style.use('seaborn-darkgrid')"
   ]
  },
  {
   "cell_type": "markdown",
   "metadata": {},
   "source": [
    "# Acquiring Dataset "
   ]
  },
  {
   "cell_type": "code",
   "execution_count": 21,
   "metadata": {},
   "outputs": [
    {
     "data": {
      "text/html": [
       "<div>\n",
       "<style scoped>\n",
       "    .dataframe tbody tr th:only-of-type {\n",
       "        vertical-align: middle;\n",
       "    }\n",
       "\n",
       "    .dataframe tbody tr th {\n",
       "        vertical-align: top;\n",
       "    }\n",
       "\n",
       "    .dataframe thead th {\n",
       "        text-align: right;\n",
       "    }\n",
       "</style>\n",
       "<table border=\"1\" class=\"dataframe\">\n",
       "  <thead>\n",
       "    <tr style=\"text-align: right;\">\n",
       "      <th></th>\n",
       "      <th>PLAYERID</th>\n",
       "      <th>INSTALLDATE</th>\n",
       "      <th>ACTIVEDAYS</th>\n",
       "      <th>LASTACTIVEDAY</th>\n",
       "      <th>LEADERMOSTSELECTED</th>\n",
       "      <th>CIVILIZATIONMOSTSELECTED</th>\n",
       "      <th>POLAND</th>\n",
       "      <th>NUBIA</th>\n",
       "      <th>KHMER_AND_INDONESIA</th>\n",
       "      <th>GATHERING_STORM</th>\n",
       "      <th>PERSIA_AND_MACEDON</th>\n",
       "      <th>VIKINGS</th>\n",
       "      <th>RISE_AND_FALL</th>\n",
       "      <th>AUSTRALIA</th>\n",
       "    </tr>\n",
       "  </thead>\n",
       "  <tbody>\n",
       "    <tr>\n",
       "      <th>0</th>\n",
       "      <td>3316379</td>\n",
       "      <td>2018-01-05</td>\n",
       "      <td>1</td>\n",
       "      <td>2018-01-05</td>\n",
       "      <td>LEADER_GILGAMESH</td>\n",
       "      <td>CIVILIZATION_SUMERIA</td>\n",
       "      <td>NaT</td>\n",
       "      <td>NaT</td>\n",
       "      <td>NaT</td>\n",
       "      <td>NaT</td>\n",
       "      <td>NaT</td>\n",
       "      <td>NaT</td>\n",
       "      <td>NaT</td>\n",
       "      <td>NaT</td>\n",
       "    </tr>\n",
       "    <tr>\n",
       "      <th>1</th>\n",
       "      <td>3316386</td>\n",
       "      <td>2018-01-05</td>\n",
       "      <td>3</td>\n",
       "      <td>2018-01-09</td>\n",
       "      <td>LEADER_TRAJAN</td>\n",
       "      <td>CIVILIZATION_ROME</td>\n",
       "      <td>NaT</td>\n",
       "      <td>NaT</td>\n",
       "      <td>NaT</td>\n",
       "      <td>NaT</td>\n",
       "      <td>NaT</td>\n",
       "      <td>NaT</td>\n",
       "      <td>NaT</td>\n",
       "      <td>NaT</td>\n",
       "    </tr>\n",
       "    <tr>\n",
       "      <th>2</th>\n",
       "      <td>3316394</td>\n",
       "      <td>2018-01-05</td>\n",
       "      <td>115</td>\n",
       "      <td>2018-07-08</td>\n",
       "      <td>LEADER_T_ROOSEVELT</td>\n",
       "      <td>CIVILIZATION_AMERICA</td>\n",
       "      <td>NaT</td>\n",
       "      <td>NaT</td>\n",
       "      <td>NaT</td>\n",
       "      <td>NaT</td>\n",
       "      <td>NaT</td>\n",
       "      <td>NaT</td>\n",
       "      <td>NaT</td>\n",
       "      <td>NaT</td>\n",
       "    </tr>\n",
       "    <tr>\n",
       "      <th>3</th>\n",
       "      <td>3888460</td>\n",
       "      <td>2018-03-04</td>\n",
       "      <td>112</td>\n",
       "      <td>2019-10-05</td>\n",
       "      <td>LEADER_HOJO</td>\n",
       "      <td>CIVILIZATION_JAPAN</td>\n",
       "      <td>NaT</td>\n",
       "      <td>NaT</td>\n",
       "      <td>NaT</td>\n",
       "      <td>NaT</td>\n",
       "      <td>NaT</td>\n",
       "      <td>NaT</td>\n",
       "      <td>NaT</td>\n",
       "      <td>NaT</td>\n",
       "    </tr>\n",
       "    <tr>\n",
       "      <th>4</th>\n",
       "      <td>3940600</td>\n",
       "      <td>2018-03-12</td>\n",
       "      <td>1</td>\n",
       "      <td>2018-03-12</td>\n",
       "      <td>LEADER_PALA</td>\n",
       "      <td>CIVILIZATION_PALA</td>\n",
       "      <td>NaT</td>\n",
       "      <td>NaT</td>\n",
       "      <td>2018-03-12</td>\n",
       "      <td>NaT</td>\n",
       "      <td>NaT</td>\n",
       "      <td>NaT</td>\n",
       "      <td>NaT</td>\n",
       "      <td>NaT</td>\n",
       "    </tr>\n",
       "    <tr>\n",
       "      <th>...</th>\n",
       "      <td>...</td>\n",
       "      <td>...</td>\n",
       "      <td>...</td>\n",
       "      <td>...</td>\n",
       "      <td>...</td>\n",
       "      <td>...</td>\n",
       "      <td>...</td>\n",
       "      <td>...</td>\n",
       "      <td>...</td>\n",
       "      <td>...</td>\n",
       "      <td>...</td>\n",
       "      <td>...</td>\n",
       "      <td>...</td>\n",
       "      <td>...</td>\n",
       "    </tr>\n",
       "    <tr>\n",
       "      <th>499995</th>\n",
       "      <td>2969114</td>\n",
       "      <td>2017-11-12</td>\n",
       "      <td>11</td>\n",
       "      <td>2019-06-06</td>\n",
       "      <td>LEADER_CLEOPATRA</td>\n",
       "      <td>CIVILIZATION_EGYPT</td>\n",
       "      <td>NaT</td>\n",
       "      <td>NaT</td>\n",
       "      <td>NaT</td>\n",
       "      <td>NaT</td>\n",
       "      <td>NaT</td>\n",
       "      <td>NaT</td>\n",
       "      <td>NaT</td>\n",
       "      <td>NaT</td>\n",
       "    </tr>\n",
       "    <tr>\n",
       "      <th>499996</th>\n",
       "      <td>2945770</td>\n",
       "      <td>2017-11-04</td>\n",
       "      <td>2</td>\n",
       "      <td>2018-02-05</td>\n",
       "      <td>LEADER_BARBAROSSA</td>\n",
       "      <td>CIVILIZATION_GERMANY</td>\n",
       "      <td>NaT</td>\n",
       "      <td>NaT</td>\n",
       "      <td>NaT</td>\n",
       "      <td>NaT</td>\n",
       "      <td>NaT</td>\n",
       "      <td>NaT</td>\n",
       "      <td>NaT</td>\n",
       "      <td>NaT</td>\n",
       "    </tr>\n",
       "    <tr>\n",
       "      <th>499997</th>\n",
       "      <td>2945778</td>\n",
       "      <td>2017-11-04</td>\n",
       "      <td>4</td>\n",
       "      <td>2017-11-11</td>\n",
       "      <td>LEADER_QIN</td>\n",
       "      <td>CIVILIZATION_CHINA</td>\n",
       "      <td>NaT</td>\n",
       "      <td>NaT</td>\n",
       "      <td>NaT</td>\n",
       "      <td>NaT</td>\n",
       "      <td>NaT</td>\n",
       "      <td>NaT</td>\n",
       "      <td>NaT</td>\n",
       "      <td>NaT</td>\n",
       "    </tr>\n",
       "    <tr>\n",
       "      <th>499998</th>\n",
       "      <td>3309420</td>\n",
       "      <td>2018-01-04</td>\n",
       "      <td>6</td>\n",
       "      <td>2018-01-11</td>\n",
       "      <td>LEADER_VICTORIA</td>\n",
       "      <td>CIVILIZATION_ENGLAND</td>\n",
       "      <td>NaT</td>\n",
       "      <td>NaT</td>\n",
       "      <td>NaT</td>\n",
       "      <td>NaT</td>\n",
       "      <td>NaT</td>\n",
       "      <td>NaT</td>\n",
       "      <td>NaT</td>\n",
       "      <td>NaT</td>\n",
       "    </tr>\n",
       "    <tr>\n",
       "      <th>499999</th>\n",
       "      <td>2945794</td>\n",
       "      <td>2017-11-04</td>\n",
       "      <td>46</td>\n",
       "      <td>2019-08-24</td>\n",
       "      <td>LEADER_T_ROOSEVELT</td>\n",
       "      <td>CIVILIZATION_AMERICA</td>\n",
       "      <td>NaT</td>\n",
       "      <td>NaT</td>\n",
       "      <td>NaT</td>\n",
       "      <td>NaT</td>\n",
       "      <td>NaT</td>\n",
       "      <td>NaT</td>\n",
       "      <td>NaT</td>\n",
       "      <td>NaT</td>\n",
       "    </tr>\n",
       "  </tbody>\n",
       "</table>\n",
       "<p>500000 rows × 14 columns</p>\n",
       "</div>"
      ],
      "text/plain": [
       "        PLAYERID INSTALLDATE  ACTIVEDAYS LASTACTIVEDAY  LEADERMOSTSELECTED  \\\n",
       "0        3316379  2018-01-05           1    2018-01-05    LEADER_GILGAMESH   \n",
       "1        3316386  2018-01-05           3    2018-01-09       LEADER_TRAJAN   \n",
       "2        3316394  2018-01-05         115    2018-07-08  LEADER_T_ROOSEVELT   \n",
       "3        3888460  2018-03-04         112    2019-10-05         LEADER_HOJO   \n",
       "4        3940600  2018-03-12           1    2018-03-12         LEADER_PALA   \n",
       "...          ...         ...         ...           ...                 ...   \n",
       "499995   2969114  2017-11-12          11    2019-06-06    LEADER_CLEOPATRA   \n",
       "499996   2945770  2017-11-04           2    2018-02-05   LEADER_BARBAROSSA   \n",
       "499997   2945778  2017-11-04           4    2017-11-11          LEADER_QIN   \n",
       "499998   3309420  2018-01-04           6    2018-01-11     LEADER_VICTORIA   \n",
       "499999   2945794  2017-11-04          46    2019-08-24  LEADER_T_ROOSEVELT   \n",
       "\n",
       "       CIVILIZATIONMOSTSELECTED POLAND NUBIA KHMER_AND_INDONESIA  \\\n",
       "0          CIVILIZATION_SUMERIA    NaT   NaT                 NaT   \n",
       "1             CIVILIZATION_ROME    NaT   NaT                 NaT   \n",
       "2          CIVILIZATION_AMERICA    NaT   NaT                 NaT   \n",
       "3            CIVILIZATION_JAPAN    NaT   NaT                 NaT   \n",
       "4             CIVILIZATION_PALA    NaT   NaT          2018-03-12   \n",
       "...                         ...    ...   ...                 ...   \n",
       "499995       CIVILIZATION_EGYPT    NaT   NaT                 NaT   \n",
       "499996     CIVILIZATION_GERMANY    NaT   NaT                 NaT   \n",
       "499997       CIVILIZATION_CHINA    NaT   NaT                 NaT   \n",
       "499998     CIVILIZATION_ENGLAND    NaT   NaT                 NaT   \n",
       "499999     CIVILIZATION_AMERICA    NaT   NaT                 NaT   \n",
       "\n",
       "       GATHERING_STORM PERSIA_AND_MACEDON VIKINGS RISE_AND_FALL AUSTRALIA  \n",
       "0                  NaT                NaT     NaT           NaT       NaT  \n",
       "1                  NaT                NaT     NaT           NaT       NaT  \n",
       "2                  NaT                NaT     NaT           NaT       NaT  \n",
       "3                  NaT                NaT     NaT           NaT       NaT  \n",
       "4                  NaT                NaT     NaT           NaT       NaT  \n",
       "...                ...                ...     ...           ...       ...  \n",
       "499995             NaT                NaT     NaT           NaT       NaT  \n",
       "499996             NaT                NaT     NaT           NaT       NaT  \n",
       "499997             NaT                NaT     NaT           NaT       NaT  \n",
       "499998             NaT                NaT     NaT           NaT       NaT  \n",
       "499999             NaT                NaT     NaT           NaT       NaT  \n",
       "\n",
       "[500000 rows x 14 columns]"
      ]
     },
     "execution_count": 21,
     "metadata": {},
     "output_type": "execute_result"
    }
   ],
   "source": [
    "# Read data\n",
    "civ6_players_path = r'C:\\Users\\Lu_ki\\OneDrive - Northeastern University\\NU Master Courseworks\\ALY6050\\Course Materials\\Module 1\\M1 Project 1\\civ6_players.xlsx'\n",
    "civ6_players = pd.read_excel(civ6_players_path)\n",
    "civ6_players"
   ]
  },
  {
   "cell_type": "code",
   "execution_count": 22,
   "metadata": {},
   "outputs": [
    {
     "name": "stdout",
     "output_type": "stream",
     "text": [
      "<class 'pandas.core.frame.DataFrame'>\n",
      "RangeIndex: 500000 entries, 0 to 499999\n",
      "Data columns (total 14 columns):\n",
      " #   Column                    Non-Null Count   Dtype         \n",
      "---  ------                    --------------   -----         \n",
      " 0   PLAYERID                  500000 non-null  int64         \n",
      " 1   INSTALLDATE               500000 non-null  datetime64[ns]\n",
      " 2   ACTIVEDAYS                500000 non-null  int64         \n",
      " 3   LASTACTIVEDAY             500000 non-null  datetime64[ns]\n",
      " 4   LEADERMOSTSELECTED        500000 non-null  object        \n",
      " 5   CIVILIZATIONMOSTSELECTED  500000 non-null  object        \n",
      " 6   POLAND                    44665 non-null   datetime64[ns]\n",
      " 7   NUBIA                     29385 non-null   datetime64[ns]\n",
      " 8   KHMER_AND_INDONESIA       26678 non-null   datetime64[ns]\n",
      " 9   GATHERING_STORM           68484 non-null   datetime64[ns]\n",
      " 10  PERSIA_AND_MACEDON        60841 non-null   datetime64[ns]\n",
      " 11  VIKINGS                   18670 non-null   datetime64[ns]\n",
      " 12  RISE_AND_FALL             110739 non-null  datetime64[ns]\n",
      " 13  AUSTRALIA                 21078 non-null   datetime64[ns]\n",
      "dtypes: datetime64[ns](10), int64(2), object(2)\n",
      "memory usage: 53.4+ MB\n"
     ]
    }
   ],
   "source": [
    "civ6_players.info()"
   ]
  },
  {
   "cell_type": "markdown",
   "metadata": {},
   "source": [
    "# Q1: How many unique players are playing CIV 6?"
   ]
  },
  {
   "cell_type": "code",
   "execution_count": 23,
   "metadata": {},
   "outputs": [
    {
     "data": {
      "text/plain": [
       "array([3316379, 3316386, 3316394, ..., 2945778, 3309420, 2945794],\n",
       "      dtype=int64)"
      ]
     },
     "execution_count": 23,
     "metadata": {},
     "output_type": "execute_result"
    }
   ],
   "source": [
    "civ6_players['PLAYERID'].unique()"
   ]
  },
  {
   "cell_type": "code",
   "execution_count": 71,
   "metadata": {},
   "outputs": [
    {
     "name": "stdout",
     "output_type": "stream",
     "text": [
      "Number of unique players is : 500000\n"
     ]
    }
   ],
   "source": [
    "n = len(pd.unique(civ6_players['PLAYERID'])) \n",
    "  \n",
    "print(\"Number of unique players is :\", n)"
   ]
  },
  {
   "cell_type": "markdown",
   "metadata": {},
   "source": [
    "# Q2: What is the average active day per players?"
   ]
  },
  {
   "cell_type": "code",
   "execution_count": 70,
   "metadata": {},
   "outputs": [
    {
     "name": "stdout",
     "output_type": "stream",
     "text": [
      "Average active days is : 23.5908\n"
     ]
    }
   ],
   "source": [
    "avg_day = civ6_players['ACTIVEDAYS'].mean()\n",
    "print(\"Average active days is :\", avg_day)"
   ]
  },
  {
   "cell_type": "markdown",
   "metadata": {},
   "source": [
    "# Q3: How many DLCs or Expansion packs each player has in average?"
   ]
  },
  {
   "cell_type": "code",
   "execution_count": 33,
   "metadata": {},
   "outputs": [
    {
     "data": {
      "text/html": [
       "<div>\n",
       "<style scoped>\n",
       "    .dataframe tbody tr th:only-of-type {\n",
       "        vertical-align: middle;\n",
       "    }\n",
       "\n",
       "    .dataframe tbody tr th {\n",
       "        vertical-align: top;\n",
       "    }\n",
       "\n",
       "    .dataframe thead th {\n",
       "        text-align: right;\n",
       "    }\n",
       "</style>\n",
       "<table border=\"1\" class=\"dataframe\">\n",
       "  <thead>\n",
       "    <tr style=\"text-align: right;\">\n",
       "      <th></th>\n",
       "      <th>POLAND</th>\n",
       "      <th>NUBIA</th>\n",
       "      <th>KHMER_AND_INDONESIA</th>\n",
       "      <th>GATHERING_STORM</th>\n",
       "      <th>PERSIA_AND_MACEDON</th>\n",
       "      <th>VIKINGS</th>\n",
       "      <th>RISE_AND_FALL</th>\n",
       "      <th>AUSTRALIA</th>\n",
       "    </tr>\n",
       "  </thead>\n",
       "  <tbody>\n",
       "    <tr>\n",
       "      <th>0</th>\n",
       "      <td>NaT</td>\n",
       "      <td>NaT</td>\n",
       "      <td>NaT</td>\n",
       "      <td>NaT</td>\n",
       "      <td>NaT</td>\n",
       "      <td>NaT</td>\n",
       "      <td>NaT</td>\n",
       "      <td>NaT</td>\n",
       "    </tr>\n",
       "    <tr>\n",
       "      <th>1</th>\n",
       "      <td>NaT</td>\n",
       "      <td>NaT</td>\n",
       "      <td>NaT</td>\n",
       "      <td>NaT</td>\n",
       "      <td>NaT</td>\n",
       "      <td>NaT</td>\n",
       "      <td>NaT</td>\n",
       "      <td>NaT</td>\n",
       "    </tr>\n",
       "    <tr>\n",
       "      <th>2</th>\n",
       "      <td>NaT</td>\n",
       "      <td>NaT</td>\n",
       "      <td>NaT</td>\n",
       "      <td>NaT</td>\n",
       "      <td>NaT</td>\n",
       "      <td>NaT</td>\n",
       "      <td>NaT</td>\n",
       "      <td>NaT</td>\n",
       "    </tr>\n",
       "    <tr>\n",
       "      <th>3</th>\n",
       "      <td>NaT</td>\n",
       "      <td>NaT</td>\n",
       "      <td>NaT</td>\n",
       "      <td>NaT</td>\n",
       "      <td>NaT</td>\n",
       "      <td>NaT</td>\n",
       "      <td>NaT</td>\n",
       "      <td>NaT</td>\n",
       "    </tr>\n",
       "    <tr>\n",
       "      <th>4</th>\n",
       "      <td>NaT</td>\n",
       "      <td>NaT</td>\n",
       "      <td>2018-03-12</td>\n",
       "      <td>NaT</td>\n",
       "      <td>NaT</td>\n",
       "      <td>NaT</td>\n",
       "      <td>NaT</td>\n",
       "      <td>NaT</td>\n",
       "    </tr>\n",
       "    <tr>\n",
       "      <th>...</th>\n",
       "      <td>...</td>\n",
       "      <td>...</td>\n",
       "      <td>...</td>\n",
       "      <td>...</td>\n",
       "      <td>...</td>\n",
       "      <td>...</td>\n",
       "      <td>...</td>\n",
       "      <td>...</td>\n",
       "    </tr>\n",
       "    <tr>\n",
       "      <th>499995</th>\n",
       "      <td>NaT</td>\n",
       "      <td>NaT</td>\n",
       "      <td>NaT</td>\n",
       "      <td>NaT</td>\n",
       "      <td>NaT</td>\n",
       "      <td>NaT</td>\n",
       "      <td>NaT</td>\n",
       "      <td>NaT</td>\n",
       "    </tr>\n",
       "    <tr>\n",
       "      <th>499996</th>\n",
       "      <td>NaT</td>\n",
       "      <td>NaT</td>\n",
       "      <td>NaT</td>\n",
       "      <td>NaT</td>\n",
       "      <td>NaT</td>\n",
       "      <td>NaT</td>\n",
       "      <td>NaT</td>\n",
       "      <td>NaT</td>\n",
       "    </tr>\n",
       "    <tr>\n",
       "      <th>499997</th>\n",
       "      <td>NaT</td>\n",
       "      <td>NaT</td>\n",
       "      <td>NaT</td>\n",
       "      <td>NaT</td>\n",
       "      <td>NaT</td>\n",
       "      <td>NaT</td>\n",
       "      <td>NaT</td>\n",
       "      <td>NaT</td>\n",
       "    </tr>\n",
       "    <tr>\n",
       "      <th>499998</th>\n",
       "      <td>NaT</td>\n",
       "      <td>NaT</td>\n",
       "      <td>NaT</td>\n",
       "      <td>NaT</td>\n",
       "      <td>NaT</td>\n",
       "      <td>NaT</td>\n",
       "      <td>NaT</td>\n",
       "      <td>NaT</td>\n",
       "    </tr>\n",
       "    <tr>\n",
       "      <th>499999</th>\n",
       "      <td>NaT</td>\n",
       "      <td>NaT</td>\n",
       "      <td>NaT</td>\n",
       "      <td>NaT</td>\n",
       "      <td>NaT</td>\n",
       "      <td>NaT</td>\n",
       "      <td>NaT</td>\n",
       "      <td>NaT</td>\n",
       "    </tr>\n",
       "  </tbody>\n",
       "</table>\n",
       "<p>500000 rows × 8 columns</p>\n",
       "</div>"
      ],
      "text/plain": [
       "       POLAND NUBIA KHMER_AND_INDONESIA GATHERING_STORM PERSIA_AND_MACEDON  \\\n",
       "0         NaT   NaT                 NaT             NaT                NaT   \n",
       "1         NaT   NaT                 NaT             NaT                NaT   \n",
       "2         NaT   NaT                 NaT             NaT                NaT   \n",
       "3         NaT   NaT                 NaT             NaT                NaT   \n",
       "4         NaT   NaT          2018-03-12             NaT                NaT   \n",
       "...       ...   ...                 ...             ...                ...   \n",
       "499995    NaT   NaT                 NaT             NaT                NaT   \n",
       "499996    NaT   NaT                 NaT             NaT                NaT   \n",
       "499997    NaT   NaT                 NaT             NaT                NaT   \n",
       "499998    NaT   NaT                 NaT             NaT                NaT   \n",
       "499999    NaT   NaT                 NaT             NaT                NaT   \n",
       "\n",
       "       VIKINGS RISE_AND_FALL AUSTRALIA  \n",
       "0          NaT           NaT       NaT  \n",
       "1          NaT           NaT       NaT  \n",
       "2          NaT           NaT       NaT  \n",
       "3          NaT           NaT       NaT  \n",
       "4          NaT           NaT       NaT  \n",
       "...        ...           ...       ...  \n",
       "499995     NaT           NaT       NaT  \n",
       "499996     NaT           NaT       NaT  \n",
       "499997     NaT           NaT       NaT  \n",
       "499998     NaT           NaT       NaT  \n",
       "499999     NaT           NaT       NaT  \n",
       "\n",
       "[500000 rows x 8 columns]"
      ]
     },
     "execution_count": 33,
     "metadata": {},
     "output_type": "execute_result"
    }
   ],
   "source": [
    "DLC_EP_df = civ6_players[[\"POLAND\",\"NUBIA\",\"KHMER_AND_INDONESIA\",\"GATHERING_STORM\",\n",
    "                         \"PERSIA_AND_MACEDON\", \"VIKINGS\", \"RISE_AND_FALL\",\"AUSTRALIA\"]]\n",
    "DLC_EP_df"
   ]
  },
  {
   "cell_type": "code",
   "execution_count": 69,
   "metadata": {},
   "outputs": [
    {
     "name": "stdout",
     "output_type": "stream",
     "text": [
      "Average DLC or Expansion packs per player is : 0.76108\n"
     ]
    }
   ],
   "source": [
    "DLC_EP = DLC_EP_df.count(axis='columns')\n",
    "avg_DLC_EP = DLC_EP.mean()\n",
    "print(\"Average DLC or Expansion packs per player is :\", avg_DLC_EP)"
   ]
  },
  {
   "cell_type": "markdown",
   "metadata": {},
   "source": [
    "# Q4: If I select a player randomly from this set of players what is the probability of the player's having all the DLCs and Expansion packs?"
   ]
  },
  {
   "cell_type": "code",
   "execution_count": 74,
   "metadata": {},
   "outputs": [
    {
     "name": "stdout",
     "output_type": "stream",
     "text": [
      "Probability of selecting a player having all DLCs and Expansion packs is : 0.2508 %\n"
     ]
    }
   ],
   "source": [
    "all_DLC_EP = sum(DLC_EP == 8)\n",
    "total = len(DLC_EP)\n",
    "all_DLC_EP_prob = round((all_DLC_EP/total)*100,4)\n",
    "print(\"Probability of selecting a player having all DLCs and Expansion packs is :\", all_DLC_prob,\"%\")"
   ]
  },
  {
   "cell_type": "markdown",
   "metadata": {},
   "source": [
    "# Q5: If I randomly select a player from this set of players what is the probability of the player's having POLAND DLC?"
   ]
  },
  {
   "cell_type": "code",
   "execution_count": 67,
   "metadata": {},
   "outputs": [
    {
     "name": "stdout",
     "output_type": "stream",
     "text": [
      "Probability of selecting a player having POLAND DLC is : 8.933 %\n"
     ]
    }
   ],
   "source": [
    "POLAND_DLC = DLC_EP_df['POLAND'].count()\n",
    "total = len(DLC_EP_df)\n",
    "POLAND_DLC_prob = round((POLAND_DLC/total)*100,4)\n",
    "print(\"Probability of selecting a player having POLAND DLC is :\", POLAND_DLC_prob,\"%\")"
   ]
  },
  {
   "cell_type": "markdown",
   "metadata": {},
   "source": [
    "# Q6: Given that a player has \"RISE AND FALL\" what is the probability of this player's having \"GATHERING STORM\""
   ]
  },
  {
   "cell_type": "code",
   "execution_count": 72,
   "metadata": {},
   "outputs": [
    {
     "name": "stdout",
     "output_type": "stream",
     "text": [
      "Given that a player has 'RISE AND FALL' DLC, the probability of getting one with 'GATHERING STORM' DLC is : 29.8601 %\n"
     ]
    }
   ],
   "source": [
    "RISE_FALL_df = DLC_EP_df[DLC_EP_df['POLAND'].notna()]\n",
    "GATHERING_STORM = RISE_FALL_df['GATHERING_STORM'].count()\n",
    "total = len(RISE_FALL_df)\n",
    "GATHERING_STORM_prob = round((GATHERING_STORM/total)*100,4)\n",
    "print(\"Given that a player has 'RISE AND FALL' DLC, the probability of getting one with 'GATHERING STORM' DLC is :\", GATHERING_STORM_prob,\"%\")"
   ]
  },
  {
   "cell_type": "markdown",
   "metadata": {},
   "source": [
    "# Q7: What is the probability of a player's purchasing all DLCs but not purchasing any expansion packs?"
   ]
  },
  {
   "cell_type": "code",
   "execution_count": 86,
   "metadata": {},
   "outputs": [
    {
     "data": {
      "text/html": [
       "<div>\n",
       "<style scoped>\n",
       "    .dataframe tbody tr th:only-of-type {\n",
       "        vertical-align: middle;\n",
       "    }\n",
       "\n",
       "    .dataframe tbody tr th {\n",
       "        vertical-align: top;\n",
       "    }\n",
       "\n",
       "    .dataframe thead th {\n",
       "        text-align: right;\n",
       "    }\n",
       "</style>\n",
       "<table border=\"1\" class=\"dataframe\">\n",
       "  <thead>\n",
       "    <tr style=\"text-align: right;\">\n",
       "      <th></th>\n",
       "      <th>POLAND</th>\n",
       "      <th>NUBIA</th>\n",
       "      <th>KHMER_AND_INDONESIA</th>\n",
       "      <th>GATHERING_STORM</th>\n",
       "      <th>PERSIA_AND_MACEDON</th>\n",
       "      <th>VIKINGS</th>\n",
       "      <th>RISE_AND_FALL</th>\n",
       "      <th>AUSTRALIA</th>\n",
       "    </tr>\n",
       "  </thead>\n",
       "  <tbody>\n",
       "    <tr>\n",
       "      <th>197</th>\n",
       "      <td>2017-06-26</td>\n",
       "      <td>2017-06-26</td>\n",
       "      <td>2017-06-26</td>\n",
       "      <td>2019-07-03</td>\n",
       "      <td>2017-06-26</td>\n",
       "      <td>2017-06-26</td>\n",
       "      <td>2019-01-01</td>\n",
       "      <td>2017-06-26</td>\n",
       "    </tr>\n",
       "    <tr>\n",
       "      <th>236</th>\n",
       "      <td>2018-05-25</td>\n",
       "      <td>2018-05-25</td>\n",
       "      <td>2018-05-25</td>\n",
       "      <td>NaT</td>\n",
       "      <td>2018-05-25</td>\n",
       "      <td>2018-05-25</td>\n",
       "      <td>NaT</td>\n",
       "      <td>2018-05-25</td>\n",
       "    </tr>\n",
       "    <tr>\n",
       "      <th>382</th>\n",
       "      <td>2017-06-26</td>\n",
       "      <td>2017-06-26</td>\n",
       "      <td>2017-06-26</td>\n",
       "      <td>NaT</td>\n",
       "      <td>2017-06-26</td>\n",
       "      <td>2017-06-26</td>\n",
       "      <td>2018-06-26</td>\n",
       "      <td>2017-06-26</td>\n",
       "    </tr>\n",
       "    <tr>\n",
       "      <th>604</th>\n",
       "      <td>2017-06-26</td>\n",
       "      <td>2017-06-26</td>\n",
       "      <td>2017-06-26</td>\n",
       "      <td>2019-02-14</td>\n",
       "      <td>2017-06-26</td>\n",
       "      <td>2017-06-26</td>\n",
       "      <td>2018-02-09</td>\n",
       "      <td>2017-06-26</td>\n",
       "    </tr>\n",
       "    <tr>\n",
       "      <th>916</th>\n",
       "      <td>2017-06-26</td>\n",
       "      <td>2017-06-26</td>\n",
       "      <td>2017-06-26</td>\n",
       "      <td>2019-02-15</td>\n",
       "      <td>2017-06-26</td>\n",
       "      <td>2017-06-26</td>\n",
       "      <td>2018-03-22</td>\n",
       "      <td>2017-06-26</td>\n",
       "    </tr>\n",
       "    <tr>\n",
       "      <th>...</th>\n",
       "      <td>...</td>\n",
       "      <td>...</td>\n",
       "      <td>...</td>\n",
       "      <td>...</td>\n",
       "      <td>...</td>\n",
       "      <td>...</td>\n",
       "      <td>...</td>\n",
       "      <td>...</td>\n",
       "    </tr>\n",
       "    <tr>\n",
       "      <th>499236</th>\n",
       "      <td>2018-01-02</td>\n",
       "      <td>2018-01-02</td>\n",
       "      <td>2018-01-02</td>\n",
       "      <td>NaT</td>\n",
       "      <td>2018-01-02</td>\n",
       "      <td>2018-01-02</td>\n",
       "      <td>NaT</td>\n",
       "      <td>2018-01-02</td>\n",
       "    </tr>\n",
       "    <tr>\n",
       "      <th>499315</th>\n",
       "      <td>2018-01-02</td>\n",
       "      <td>2018-01-02</td>\n",
       "      <td>2018-01-02</td>\n",
       "      <td>NaT</td>\n",
       "      <td>2018-01-02</td>\n",
       "      <td>2018-01-02</td>\n",
       "      <td>2018-09-02</td>\n",
       "      <td>2018-01-02</td>\n",
       "    </tr>\n",
       "    <tr>\n",
       "      <th>499396</th>\n",
       "      <td>2017-11-16</td>\n",
       "      <td>2017-11-16</td>\n",
       "      <td>2017-11-16</td>\n",
       "      <td>NaT</td>\n",
       "      <td>2017-11-16</td>\n",
       "      <td>2017-11-16</td>\n",
       "      <td>NaT</td>\n",
       "      <td>2017-11-16</td>\n",
       "    </tr>\n",
       "    <tr>\n",
       "      <th>499565</th>\n",
       "      <td>2017-11-03</td>\n",
       "      <td>2017-11-03</td>\n",
       "      <td>2017-11-03</td>\n",
       "      <td>NaT</td>\n",
       "      <td>2017-11-03</td>\n",
       "      <td>2017-11-03</td>\n",
       "      <td>NaT</td>\n",
       "      <td>2017-11-03</td>\n",
       "    </tr>\n",
       "    <tr>\n",
       "      <th>499782</th>\n",
       "      <td>2017-11-11</td>\n",
       "      <td>2017-11-11</td>\n",
       "      <td>2017-11-11</td>\n",
       "      <td>2019-02-17</td>\n",
       "      <td>2017-11-11</td>\n",
       "      <td>2017-11-11</td>\n",
       "      <td>2018-05-22</td>\n",
       "      <td>2017-11-11</td>\n",
       "    </tr>\n",
       "  </tbody>\n",
       "</table>\n",
       "<p>2282 rows × 8 columns</p>\n",
       "</div>"
      ],
      "text/plain": [
       "           POLAND      NUBIA KHMER_AND_INDONESIA GATHERING_STORM  \\\n",
       "197    2017-06-26 2017-06-26          2017-06-26      2019-07-03   \n",
       "236    2018-05-25 2018-05-25          2018-05-25             NaT   \n",
       "382    2017-06-26 2017-06-26          2017-06-26             NaT   \n",
       "604    2017-06-26 2017-06-26          2017-06-26      2019-02-14   \n",
       "916    2017-06-26 2017-06-26          2017-06-26      2019-02-15   \n",
       "...           ...        ...                 ...             ...   \n",
       "499236 2018-01-02 2018-01-02          2018-01-02             NaT   \n",
       "499315 2018-01-02 2018-01-02          2018-01-02             NaT   \n",
       "499396 2017-11-16 2017-11-16          2017-11-16             NaT   \n",
       "499565 2017-11-03 2017-11-03          2017-11-03             NaT   \n",
       "499782 2017-11-11 2017-11-11          2017-11-11      2019-02-17   \n",
       "\n",
       "       PERSIA_AND_MACEDON    VIKINGS RISE_AND_FALL  AUSTRALIA  \n",
       "197            2017-06-26 2017-06-26    2019-01-01 2017-06-26  \n",
       "236            2018-05-25 2018-05-25           NaT 2018-05-25  \n",
       "382            2017-06-26 2017-06-26    2018-06-26 2017-06-26  \n",
       "604            2017-06-26 2017-06-26    2018-02-09 2017-06-26  \n",
       "916            2017-06-26 2017-06-26    2018-03-22 2017-06-26  \n",
       "...                   ...        ...           ...        ...  \n",
       "499236         2018-01-02 2018-01-02           NaT 2018-01-02  \n",
       "499315         2018-01-02 2018-01-02    2018-09-02 2018-01-02  \n",
       "499396         2017-11-16 2017-11-16           NaT 2017-11-16  \n",
       "499565         2017-11-03 2017-11-03           NaT 2017-11-03  \n",
       "499782         2017-11-11 2017-11-11    2018-05-22 2017-11-11  \n",
       "\n",
       "[2282 rows x 8 columns]"
      ]
     },
     "execution_count": 86,
     "metadata": {},
     "output_type": "execute_result"
    }
   ],
   "source": [
    "DLC_df1 = DLC_EP_df[DLC_EP_df['POLAND'].notna()]\n",
    "DLC_df2 = DLC_df1[DLC_df1['NUBIA'].notna()]\n",
    "DLC_df3 = DLC_df2[DLC_df2['KHMER_AND_INDONESIA'].notna()]\n",
    "DLC_df4 = DLC_df3[DLC_df3['PERSIA_AND_MACEDON'].notna()]\n",
    "DLC_df5 = DLC_df4[DLC_df4['VIKINGS'].notna()]\n",
    "DLC_df6 = DLC_df5[DLC_df5['AUSTRALIA'].notna()]\n",
    "DLC_df6"
   ]
  },
  {
   "cell_type": "code",
   "execution_count": 98,
   "metadata": {},
   "outputs": [
    {
     "name": "stdout",
     "output_type": "stream",
     "text": [
      "Probability of a player purchasing all DLCs but no Expansion packs is : 20.72743 %\n"
     ]
    }
   ],
   "source": [
    "all_DLC_no_EP = sum(DLC_df6.count(axis='columns')==6)\n",
    "total = len(DLC_df6)\n",
    "all_DLC_no_EP_prob = round((all_DLC_no_EP/total)*100,5)\n",
    "print(\"Probability of a player purchasing all DLCs but no Expansion packs is :\", all_DLC_no_EP_prob,\"%\")"
   ]
  },
  {
   "cell_type": "markdown",
   "metadata": {},
   "source": [
    "# Q8: Plot the histogram of number of active days."
   ]
  },
  {
   "cell_type": "code",
   "execution_count": 102,
   "metadata": {},
   "outputs": [
    {
     "data": {
      "text/plain": [
       "1081"
      ]
     },
     "execution_count": 102,
     "metadata": {},
     "output_type": "execute_result"
    }
   ],
   "source": [
    "civ6_players['ACTIVEDAYS'].max()"
   ]
  },
  {
   "cell_type": "code",
   "execution_count": 144,
   "metadata": {},
   "outputs": [
    {
     "data": {
      "text/plain": [
       "Text(0.5, 1.0, 'Histogram of Player Active Days \\n')"
      ]
     },
     "execution_count": 144,
     "metadata": {},
     "output_type": "execute_result"
    },
    {
     "data": {
      "image/png": "[encoded data removed]",
      "text/plain": [
       "<Figure size 1080x1440 with 1 Axes>"
      ]
     },
     "metadata": {
      "needs_background": "light"
     },
     "output_type": "display_data"
    }
   ],
   "source": [
    "plt.figure(figsize=(15,20))\n",
    "ax = sns.histplot(data=civ6_players['ACTIVEDAYS'])\n",
    "plt.xlabel(\"Active Days\", fontsize=15)\n",
    "plt.ylabel(\"Frequency\",fontsize=15)\n",
    "ax.set(ylim=(0,40000.0))\n",
    "plt.title(\"Histogram of Player Active Days \\n\", fontsize=20)"
   ]
  }
 ],
 "metadata": {
  "kernelspec": {
   "display_name": "Python 3",
   "language": "python",
   "name": "python3"
  },
  "language_info": {
   "codemirror_mode": {
    "name": "ipython",
    "version": 3
   },
   "file_extension": ".py",
   "mimetype": "text/x-python",
   "name": "python",
   "nbconvert_exporter": "python",
   "pygments_lexer": "ipython3",
   "version": "3.8.5"
  }
 },
 "nbformat": 4,
 "nbformat_minor": 4
}
