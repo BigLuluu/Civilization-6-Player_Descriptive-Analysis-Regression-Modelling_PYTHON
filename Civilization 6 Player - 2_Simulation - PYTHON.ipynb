{
 "cells": [
  {
   "cell_type": "markdown",
   "metadata": {},
   "source": [
    "# Civilization 6 Players - Simulation \n",
    "# Author: Lu (Christina) Jin"
   ]
  },
  {
   "cell_type": "markdown",
   "metadata": {},
   "source": [
    "# Setup: Import all libraries"
   ]
  },
  {
   "cell_type": "code",
   "execution_count": 1,
   "metadata": {},
   "outputs": [],
   "source": [
    "import os\n",
    "import io\n",
    "import numpy as np\n",
    "import pandas as pd\n",
    "import seaborn as sns\n",
    "import matplotlib.pyplot as plt\n",
    "import matplotlib.ticker as ticker\n",
    "import scipy as scipy\n",
    "\n",
    "import statsmodels.api as sm\n",
    "from matplotlib.ticker import PercentFormatter\n",
    "from scipy import stats\n",
    "from pylab import rcParams\n",
    "rcParams['figure.figsize'] = (20, 10)\n",
    "sns.set_style('darkgrid')\n",
    "plt.style.use('seaborn-darkgrid')"
   ]
  },
  {
   "cell_type": "markdown",
   "metadata": {},
   "source": [
    "# Acquiring Dataset "
   ]
  },
  {
   "cell_type": "code",
   "execution_count": 84,
   "metadata": {},
   "outputs": [
    {
     "data": {
      "text/html": [
       "<div>\n",
       "<style scoped>\n",
       "    .dataframe tbody tr th:only-of-type {\n",
       "        vertical-align: middle;\n",
       "    }\n",
       "\n",
       "    .dataframe tbody tr th {\n",
       "        vertical-align: top;\n",
       "    }\n",
       "\n",
       "    .dataframe thead th {\n",
       "        text-align: right;\n",
       "    }\n",
       "</style>\n",
       "<table border=\"1\" class=\"dataframe\">\n",
       "  <thead>\n",
       "    <tr style=\"text-align: right;\">\n",
       "      <th></th>\n",
       "      <th>PLAYERID</th>\n",
       "      <th>INSTALLDATE</th>\n",
       "      <th>ACTIVEDAYS</th>\n",
       "      <th>LASTACTIVEDAY</th>\n",
       "      <th>LEADERMOSTSELECTED</th>\n",
       "      <th>CIVILIZATIONMOSTSELECTED</th>\n",
       "      <th>POLAND</th>\n",
       "      <th>NUBIA</th>\n",
       "      <th>KHMER_AND_INDONESIA</th>\n",
       "      <th>GATHERING_STORM</th>\n",
       "      <th>PERSIA_AND_MACEDON</th>\n",
       "      <th>VIKINGS</th>\n",
       "      <th>RISE_AND_FALL</th>\n",
       "      <th>AUSTRALIA</th>\n",
       "    </tr>\n",
       "  </thead>\n",
       "  <tbody>\n",
       "    <tr>\n",
       "      <th>0</th>\n",
       "      <td>3316379</td>\n",
       "      <td>2018-01-05</td>\n",
       "      <td>1</td>\n",
       "      <td>2018-01-05</td>\n",
       "      <td>LEADER_GILGAMESH</td>\n",
       "      <td>CIVILIZATION_SUMERIA</td>\n",
       "      <td>NaT</td>\n",
       "      <td>NaT</td>\n",
       "      <td>NaT</td>\n",
       "      <td>NaT</td>\n",
       "      <td>NaT</td>\n",
       "      <td>NaT</td>\n",
       "      <td>NaT</td>\n",
       "      <td>NaT</td>\n",
       "    </tr>\n",
       "    <tr>\n",
       "      <th>1</th>\n",
       "      <td>3316386</td>\n",
       "      <td>2018-01-05</td>\n",
       "      <td>3</td>\n",
       "      <td>2018-01-09</td>\n",
       "      <td>LEADER_TRAJAN</td>\n",
       "      <td>CIVILIZATION_ROME</td>\n",
       "      <td>NaT</td>\n",
       "      <td>NaT</td>\n",
       "      <td>NaT</td>\n",
       "      <td>NaT</td>\n",
       "      <td>NaT</td>\n",
       "      <td>NaT</td>\n",
       "      <td>NaT</td>\n",
       "      <td>NaT</td>\n",
       "    </tr>\n",
       "    <tr>\n",
       "      <th>2</th>\n",
       "      <td>3316394</td>\n",
       "      <td>2018-01-05</td>\n",
       "      <td>115</td>\n",
       "      <td>2018-07-08</td>\n",
       "      <td>LEADER_T_ROOSEVELT</td>\n",
       "      <td>CIVILIZATION_AMERICA</td>\n",
       "      <td>NaT</td>\n",
       "      <td>NaT</td>\n",
       "      <td>NaT</td>\n",
       "      <td>NaT</td>\n",
       "      <td>NaT</td>\n",
       "      <td>NaT</td>\n",
       "      <td>NaT</td>\n",
       "      <td>NaT</td>\n",
       "    </tr>\n",
       "    <tr>\n",
       "      <th>3</th>\n",
       "      <td>3888460</td>\n",
       "      <td>2018-03-04</td>\n",
       "      <td>112</td>\n",
       "      <td>2019-10-05</td>\n",
       "      <td>LEADER_HOJO</td>\n",
       "      <td>CIVILIZATION_JAPAN</td>\n",
       "      <td>NaT</td>\n",
       "      <td>NaT</td>\n",
       "      <td>NaT</td>\n",
       "      <td>NaT</td>\n",
       "      <td>NaT</td>\n",
       "      <td>NaT</td>\n",
       "      <td>NaT</td>\n",
       "      <td>NaT</td>\n",
       "    </tr>\n",
       "    <tr>\n",
       "      <th>4</th>\n",
       "      <td>3940600</td>\n",
       "      <td>2018-03-12</td>\n",
       "      <td>1</td>\n",
       "      <td>2018-03-12</td>\n",
       "      <td>LEADER_PALA</td>\n",
       "      <td>CIVILIZATION_PALA</td>\n",
       "      <td>NaT</td>\n",
       "      <td>NaT</td>\n",
       "      <td>2018-03-12</td>\n",
       "      <td>NaT</td>\n",
       "      <td>NaT</td>\n",
       "      <td>NaT</td>\n",
       "      <td>NaT</td>\n",
       "      <td>NaT</td>\n",
       "    </tr>\n",
       "    <tr>\n",
       "      <th>...</th>\n",
       "      <td>...</td>\n",
       "      <td>...</td>\n",
       "      <td>...</td>\n",
       "      <td>...</td>\n",
       "      <td>...</td>\n",
       "      <td>...</td>\n",
       "      <td>...</td>\n",
       "      <td>...</td>\n",
       "      <td>...</td>\n",
       "      <td>...</td>\n",
       "      <td>...</td>\n",
       "      <td>...</td>\n",
       "      <td>...</td>\n",
       "      <td>...</td>\n",
       "    </tr>\n",
       "    <tr>\n",
       "      <th>499995</th>\n",
       "      <td>2969114</td>\n",
       "      <td>2017-11-12</td>\n",
       "      <td>11</td>\n",
       "      <td>2019-06-06</td>\n",
       "      <td>LEADER_CLEOPATRA</td>\n",
       "      <td>CIVILIZATION_EGYPT</td>\n",
       "      <td>NaT</td>\n",
       "      <td>NaT</td>\n",
       "      <td>NaT</td>\n",
       "      <td>NaT</td>\n",
       "      <td>NaT</td>\n",
       "      <td>NaT</td>\n",
       "      <td>NaT</td>\n",
       "      <td>NaT</td>\n",
       "    </tr>\n",
       "    <tr>\n",
       "      <th>499996</th>\n",
       "      <td>2945770</td>\n",
       "      <td>2017-11-04</td>\n",
       "      <td>2</td>\n",
       "      <td>2018-02-05</td>\n",
       "      <td>LEADER_BARBAROSSA</td>\n",
       "      <td>CIVILIZATION_GERMANY</td>\n",
       "      <td>NaT</td>\n",
       "      <td>NaT</td>\n",
       "      <td>NaT</td>\n",
       "      <td>NaT</td>\n",
       "      <td>NaT</td>\n",
       "      <td>NaT</td>\n",
       "      <td>NaT</td>\n",
       "      <td>NaT</td>\n",
       "    </tr>\n",
       "    <tr>\n",
       "      <th>499997</th>\n",
       "      <td>2945778</td>\n",
       "      <td>2017-11-04</td>\n",
       "      <td>4</td>\n",
       "      <td>2017-11-11</td>\n",
       "      <td>LEADER_QIN</td>\n",
       "      <td>CIVILIZATION_CHINA</td>\n",
       "      <td>NaT</td>\n",
       "      <td>NaT</td>\n",
       "      <td>NaT</td>\n",
       "      <td>NaT</td>\n",
       "      <td>NaT</td>\n",
       "      <td>NaT</td>\n",
       "      <td>NaT</td>\n",
       "      <td>NaT</td>\n",
       "    </tr>\n",
       "    <tr>\n",
       "      <th>499998</th>\n",
       "      <td>3309420</td>\n",
       "      <td>2018-01-04</td>\n",
       "      <td>6</td>\n",
       "      <td>2018-01-11</td>\n",
       "      <td>LEADER_VICTORIA</td>\n",
       "      <td>CIVILIZATION_ENGLAND</td>\n",
       "      <td>NaT</td>\n",
       "      <td>NaT</td>\n",
       "      <td>NaT</td>\n",
       "      <td>NaT</td>\n",
       "      <td>NaT</td>\n",
       "      <td>NaT</td>\n",
       "      <td>NaT</td>\n",
       "      <td>NaT</td>\n",
       "    </tr>\n",
       "    <tr>\n",
       "      <th>499999</th>\n",
       "      <td>2945794</td>\n",
       "      <td>2017-11-04</td>\n",
       "      <td>46</td>\n",
       "      <td>2019-08-24</td>\n",
       "      <td>LEADER_T_ROOSEVELT</td>\n",
       "      <td>CIVILIZATION_AMERICA</td>\n",
       "      <td>NaT</td>\n",
       "      <td>NaT</td>\n",
       "      <td>NaT</td>\n",
       "      <td>NaT</td>\n",
       "      <td>NaT</td>\n",
       "      <td>NaT</td>\n",
       "      <td>NaT</td>\n",
       "      <td>NaT</td>\n",
       "    </tr>\n",
       "  </tbody>\n",
       "</table>\n",
       "<p>500000 rows × 14 columns</p>\n",
       "</div>"
      ],
      "text/plain": [
       "        PLAYERID INSTALLDATE  ACTIVEDAYS LASTACTIVEDAY  LEADERMOSTSELECTED  \\\n",
       "0        3316379  2018-01-05           1    2018-01-05    LEADER_GILGAMESH   \n",
       "1        3316386  2018-01-05           3    2018-01-09       LEADER_TRAJAN   \n",
       "2        3316394  2018-01-05         115    2018-07-08  LEADER_T_ROOSEVELT   \n",
       "3        3888460  2018-03-04         112    2019-10-05         LEADER_HOJO   \n",
       "4        3940600  2018-03-12           1    2018-03-12         LEADER_PALA   \n",
       "...          ...         ...         ...           ...                 ...   \n",
       "499995   2969114  2017-11-12          11    2019-06-06    LEADER_CLEOPATRA   \n",
       "499996   2945770  2017-11-04           2    2018-02-05   LEADER_BARBAROSSA   \n",
       "499997   2945778  2017-11-04           4    2017-11-11          LEADER_QIN   \n",
       "499998   3309420  2018-01-04           6    2018-01-11     LEADER_VICTORIA   \n",
       "499999   2945794  2017-11-04          46    2019-08-24  LEADER_T_ROOSEVELT   \n",
       "\n",
       "       CIVILIZATIONMOSTSELECTED POLAND NUBIA KHMER_AND_INDONESIA  \\\n",
       "0          CIVILIZATION_SUMERIA    NaT   NaT                 NaT   \n",
       "1             CIVILIZATION_ROME    NaT   NaT                 NaT   \n",
       "2          CIVILIZATION_AMERICA    NaT   NaT                 NaT   \n",
       "3            CIVILIZATION_JAPAN    NaT   NaT                 NaT   \n",
       "4             CIVILIZATION_PALA    NaT   NaT          2018-03-12   \n",
       "...                         ...    ...   ...                 ...   \n",
       "499995       CIVILIZATION_EGYPT    NaT   NaT                 NaT   \n",
       "499996     CIVILIZATION_GERMANY    NaT   NaT                 NaT   \n",
       "499997       CIVILIZATION_CHINA    NaT   NaT                 NaT   \n",
       "499998     CIVILIZATION_ENGLAND    NaT   NaT                 NaT   \n",
       "499999     CIVILIZATION_AMERICA    NaT   NaT                 NaT   \n",
       "\n",
       "       GATHERING_STORM PERSIA_AND_MACEDON VIKINGS RISE_AND_FALL AUSTRALIA  \n",
       "0                  NaT                NaT     NaT           NaT       NaT  \n",
       "1                  NaT                NaT     NaT           NaT       NaT  \n",
       "2                  NaT                NaT     NaT           NaT       NaT  \n",
       "3                  NaT                NaT     NaT           NaT       NaT  \n",
       "4                  NaT                NaT     NaT           NaT       NaT  \n",
       "...                ...                ...     ...           ...       ...  \n",
       "499995             NaT                NaT     NaT           NaT       NaT  \n",
       "499996             NaT                NaT     NaT           NaT       NaT  \n",
       "499997             NaT                NaT     NaT           NaT       NaT  \n",
       "499998             NaT                NaT     NaT           NaT       NaT  \n",
       "499999             NaT                NaT     NaT           NaT       NaT  \n",
       "\n",
       "[500000 rows x 14 columns]"
      ]
     },
     "execution_count": 84,
     "metadata": {},
     "output_type": "execute_result"
    }
   ],
   "source": [
    "# Read data\n",
    "civ6_players_path = r'C:\\Users\\Lu_ki\\OneDrive - Northeastern University\\NU Master Courseworks\\ALY6050\\Course Materials\\Module 1\\M1 Project 1\\civ6_players.xlsx'\n",
    "civ6 = pd.read_excel(civ6_players_path)\n",
    "civ6"
   ]
  },
  {
   "cell_type": "code",
   "execution_count": 85,
   "metadata": {},
   "outputs": [
    {
     "name": "stdout",
     "output_type": "stream",
     "text": [
      "<class 'pandas.core.frame.DataFrame'>\n",
      "RangeIndex: 500000 entries, 0 to 499999\n",
      "Data columns (total 14 columns):\n",
      " #   Column                    Non-Null Count   Dtype         \n",
      "---  ------                    --------------   -----         \n",
      " 0   PLAYERID                  500000 non-null  int64         \n",
      " 1   INSTALLDATE               500000 non-null  datetime64[ns]\n",
      " 2   ACTIVEDAYS                500000 non-null  int64         \n",
      " 3   LASTACTIVEDAY             500000 non-null  datetime64[ns]\n",
      " 4   LEADERMOSTSELECTED        500000 non-null  object        \n",
      " 5   CIVILIZATIONMOSTSELECTED  500000 non-null  object        \n",
      " 6   POLAND                    44665 non-null   datetime64[ns]\n",
      " 7   NUBIA                     29385 non-null   datetime64[ns]\n",
      " 8   KHMER_AND_INDONESIA       26678 non-null   datetime64[ns]\n",
      " 9   GATHERING_STORM           68484 non-null   datetime64[ns]\n",
      " 10  PERSIA_AND_MACEDON        60841 non-null   datetime64[ns]\n",
      " 11  VIKINGS                   18670 non-null   datetime64[ns]\n",
      " 12  RISE_AND_FALL             110739 non-null  datetime64[ns]\n",
      " 13  AUSTRALIA                 21078 non-null   datetime64[ns]\n",
      "dtypes: datetime64[ns](10), int64(2), object(2)\n",
      "memory usage: 53.4+ MB\n"
     ]
    }
   ],
   "source": [
    "civ6.info()"
   ]
  },
  {
   "cell_type": "markdown",
   "metadata": {},
   "source": [
    "# Q1: Randomly select 1000 players from this data set and compare this sample's average active days per player,  with the population's average active days per player."
   ]
  },
  {
   "cell_type": "code",
   "execution_count": 89,
   "metadata": {},
   "outputs": [],
   "source": [
    "# randomly select 1000 players from the dataset\n",
    "civ6_sample_1k = civ6.sample(n=1000, random_state=100)"
   ]
  },
  {
   "cell_type": "code",
   "execution_count": 90,
   "metadata": {},
   "outputs": [
    {
     "name": "stdout",
     "output_type": "stream",
     "text": [
      "Sample average active days is : 19.792\n"
     ]
    }
   ],
   "source": [
    "# Sample's average active days per player\n",
    "sample_1k_avg_day = civ6_sample_1k['ACTIVEDAYS'].mean()\n",
    "print(\"Sample average active days is :\", sample_1k_avg_day)"
   ]
  },
  {
   "cell_type": "code",
   "execution_count": 88,
   "metadata": {},
   "outputs": [
    {
     "name": "stdout",
     "output_type": "stream",
     "text": [
      "Population average active days is : 23.5908\n"
     ]
    }
   ],
   "source": [
    "# Population's average active days per player\n",
    "pop_avg_day = civ6['ACTIVEDAYS'].mean()\n",
    "print(\"Population average active days is :\", pop_avg_day)"
   ]
  },
  {
   "cell_type": "code",
   "execution_count": 91,
   "metadata": {},
   "outputs": [
    {
     "name": "stdout",
     "output_type": "stream",
     "text": [
      "Percentage of difference is: 16.1 %\n"
     ]
    }
   ],
   "source": [
    "# percentage of difference\n",
    "print(\"Percentage of difference is:\", round((1 - sample_1k_avg_day/pop_avg_day)*100,2),\"%\")"
   ]
  },
  {
   "cell_type": "markdown",
   "metadata": {},
   "source": [
    "# Q2: Randomly select 100000 players from this data set and compare this sample's average active days per player,  with the population's average active days per player."
   ]
  },
  {
   "cell_type": "code",
   "execution_count": 48,
   "metadata": {},
   "outputs": [],
   "source": [
    "# randomly select 100000 players from the dataset\n",
    "civ6_sample_100k = civ6.sample(n=100000, random_state=100)"
   ]
  },
  {
   "cell_type": "code",
   "execution_count": 49,
   "metadata": {},
   "outputs": [
    {
     "name": "stdout",
     "output_type": "stream",
     "text": [
      "Sample average active days is : 23.59811\n"
     ]
    }
   ],
   "source": [
    "# Sample's average active days per player\n",
    "sample_100k_avg_day = civ6_sample_100k['ACTIVEDAYS'].mean()\n",
    "print(\"Sample average active days is :\", sample100k_avg_day)"
   ]
  },
  {
   "cell_type": "code",
   "execution_count": 52,
   "metadata": {},
   "outputs": [
    {
     "name": "stdout",
     "output_type": "stream",
     "text": [
      "Percentage of difference is: -0.03 %\n"
     ]
    }
   ],
   "source": [
    "# percentage of difference\n",
    "print(\"Percentage of difference is:\", round((1 - sample100k_avg_day/population_avg_day)*100,2),\"%\")"
   ]
  },
  {
   "cell_type": "markdown",
   "metadata": {},
   "source": [
    "# Q3: Which sample was a better estimator the population parameter for average active days per player?"
   ]
  },
  {
   "cell_type": "markdown",
   "metadata": {},
   "source": [
    "> ### Compare Average Active Days Between Sample Set of 1000, Sample Set of 100000 and Population:\n",
    "> The average active days per player of the randomly selected (which has a controled random state) 1000-player sample set is 19.79, while the population's average is 23.59. Although the two numbers are quite close, but there are still 16% difference.\n",
    "\n",
    "> On the other side, the average active days per player of the randomly selected (which has a controled random state) 100000-player sample set is 23.5981. We can see it has a much more closer numerical value of the average with the population and only as little as 0.03% of difference. \n",
    "\n",
    "> It's not hard to tell the second sample set with 100000 randomly selected players is a way better estimartor for population's average active days. Therefore, we can conclude that sample sets with more samples selected is a more precise estimartor of parameters of the population."
   ]
  },
  {
   "cell_type": "markdown",
   "metadata": {},
   "source": [
    "# Q4: Randomly select 1000 samples with sample size 1000 and plot the histogram of \"average active days per player\" of each sample."
   ]
  },
  {
   "cell_type": "code",
   "execution_count": 140,
   "metadata": {},
   "outputs": [
    {
     "name": "stdout",
     "output_type": "stream",
     "text": [
      "ACTIVEDAYS    1\n",
      "dtype: int64\n",
      "ACTIVEDAYS    1081\n",
      "dtype: int64\n"
     ]
    },
    {
     "data": {
      "text/html": [
       "<div>\n",
       "<style scoped>\n",
       "    .dataframe tbody tr th:only-of-type {\n",
       "        vertical-align: middle;\n",
       "    }\n",
       "\n",
       "    .dataframe tbody tr th {\n",
       "        vertical-align: top;\n",
       "    }\n",
       "\n",
       "    .dataframe thead th {\n",
       "        text-align: right;\n",
       "    }\n",
       "</style>\n",
       "<table border=\"1\" class=\"dataframe\">\n",
       "  <thead>\n",
       "    <tr style=\"text-align: right;\">\n",
       "      <th></th>\n",
       "      <th>ACTIVEDAYS</th>\n",
       "    </tr>\n",
       "  </thead>\n",
       "  <tbody>\n",
       "    <tr>\n",
       "      <th>0</th>\n",
       "      <td>1</td>\n",
       "    </tr>\n",
       "    <tr>\n",
       "      <th>1</th>\n",
       "      <td>3</td>\n",
       "    </tr>\n",
       "    <tr>\n",
       "      <th>2</th>\n",
       "      <td>115</td>\n",
       "    </tr>\n",
       "    <tr>\n",
       "      <th>3</th>\n",
       "      <td>112</td>\n",
       "    </tr>\n",
       "    <tr>\n",
       "      <th>4</th>\n",
       "      <td>1</td>\n",
       "    </tr>\n",
       "    <tr>\n",
       "      <th>...</th>\n",
       "      <td>...</td>\n",
       "    </tr>\n",
       "    <tr>\n",
       "      <th>499995</th>\n",
       "      <td>11</td>\n",
       "    </tr>\n",
       "    <tr>\n",
       "      <th>499996</th>\n",
       "      <td>2</td>\n",
       "    </tr>\n",
       "    <tr>\n",
       "      <th>499997</th>\n",
       "      <td>4</td>\n",
       "    </tr>\n",
       "    <tr>\n",
       "      <th>499998</th>\n",
       "      <td>6</td>\n",
       "    </tr>\n",
       "    <tr>\n",
       "      <th>499999</th>\n",
       "      <td>46</td>\n",
       "    </tr>\n",
       "  </tbody>\n",
       "</table>\n",
       "<p>500000 rows × 1 columns</p>\n",
       "</div>"
      ],
      "text/plain": [
       "        ACTIVEDAYS\n",
       "0                1\n",
       "1                3\n",
       "2              115\n",
       "3              112\n",
       "4                1\n",
       "...            ...\n",
       "499995          11\n",
       "499996           2\n",
       "499997           4\n",
       "499998           6\n",
       "499999          46\n",
       "\n",
       "[500000 rows x 1 columns]"
      ]
     },
     "execution_count": 140,
     "metadata": {},
     "output_type": "execute_result"
    }
   ],
   "source": [
    "# create a subset data frame which only consist input of 'ACTIVEDAYS'\n",
    "civ6_active_days = pd.DataFrame(civ6_players['ACTIVEDAYS'])\n",
    "civ6_active_days"
   ]
  },
  {
   "cell_type": "code",
   "execution_count": 98,
   "metadata": {},
   "outputs": [
    {
     "data": {
      "text/html": [
       "<div>\n",
       "<style scoped>\n",
       "    .dataframe tbody tr th:only-of-type {\n",
       "        vertical-align: middle;\n",
       "    }\n",
       "\n",
       "    .dataframe tbody tr th {\n",
       "        vertical-align: top;\n",
       "    }\n",
       "\n",
       "    .dataframe thead th {\n",
       "        text-align: right;\n",
       "    }\n",
       "</style>\n",
       "<table border=\"1\" class=\"dataframe\">\n",
       "  <thead>\n",
       "    <tr style=\"text-align: right;\">\n",
       "      <th></th>\n",
       "      <th>ACTIVEDAYS</th>\n",
       "    </tr>\n",
       "  </thead>\n",
       "  <tbody>\n",
       "    <tr>\n",
       "      <th>0</th>\n",
       "      <td>24.244</td>\n",
       "    </tr>\n",
       "    <tr>\n",
       "      <th>1</th>\n",
       "      <td>24.556</td>\n",
       "    </tr>\n",
       "    <tr>\n",
       "      <th>2</th>\n",
       "      <td>21.527</td>\n",
       "    </tr>\n",
       "    <tr>\n",
       "      <th>3</th>\n",
       "      <td>22.819</td>\n",
       "    </tr>\n",
       "    <tr>\n",
       "      <th>4</th>\n",
       "      <td>23.857</td>\n",
       "    </tr>\n",
       "    <tr>\n",
       "      <th>...</th>\n",
       "      <td>...</td>\n",
       "    </tr>\n",
       "    <tr>\n",
       "      <th>995</th>\n",
       "      <td>25.419</td>\n",
       "    </tr>\n",
       "    <tr>\n",
       "      <th>996</th>\n",
       "      <td>21.763</td>\n",
       "    </tr>\n",
       "    <tr>\n",
       "      <th>997</th>\n",
       "      <td>23.923</td>\n",
       "    </tr>\n",
       "    <tr>\n",
       "      <th>998</th>\n",
       "      <td>25.092</td>\n",
       "    </tr>\n",
       "    <tr>\n",
       "      <th>999</th>\n",
       "      <td>21.191</td>\n",
       "    </tr>\n",
       "  </tbody>\n",
       "</table>\n",
       "<p>1000 rows × 1 columns</p>\n",
       "</div>"
      ],
      "text/plain": [
       "     ACTIVEDAYS\n",
       "0        24.244\n",
       "1        24.556\n",
       "2        21.527\n",
       "3        22.819\n",
       "4        23.857\n",
       "..          ...\n",
       "995      25.419\n",
       "996      21.763\n",
       "997      23.923\n",
       "998      25.092\n",
       "999      21.191\n",
       "\n",
       "[1000 rows x 1 columns]"
      ]
     },
     "execution_count": 98,
     "metadata": {},
     "output_type": "execute_result"
    }
   ],
   "source": [
    "# run 1000 times of selecting 1000 samples, and save the mean to another data frame\n",
    "avg_1 = []\n",
    "for i in range(1000):\n",
    "    civ6_sample_1k = civ6_active_days.sample(n=1000)\n",
    "    sample_1k_avg_days = civ6_sample_1k.mean()\n",
    "    avg_1.append(sample_1k_avg_days)\n",
    "    \n",
    "sample_1_avg_df = pd.DataFrame(avg_1)\n",
    "sample_1_avg_df"
   ]
  },
  {
   "cell_type": "code",
   "execution_count": 144,
   "metadata": {},
   "outputs": [
    {
     "name": "stdout",
     "output_type": "stream",
     "text": [
      "ACTIVEDAYS    19.164\n",
      "dtype: float64\n",
      "ACTIVEDAYS    28.523\n",
      "dtype: float64\n"
     ]
    }
   ],
   "source": [
    "print(sample_1_avg_df.min())\n",
    "print(sample_1_avg_df.max())"
   ]
  },
  {
   "cell_type": "code",
   "execution_count": 149,
   "metadata": {},
   "outputs": [
    {
     "data": {
      "image/png": "[encoded data removed]",
      "text/plain": [
       "<Figure size 1440x720 with 1 Axes>"
      ]
     },
     "metadata": {},
     "output_type": "display_data"
    }
   ],
   "source": [
    "# plot the histogram for each of the 1000 samples of average active days\n",
    "fig,ax_1 = plt.subplots()\n",
    "\n",
    "plt.hist(sample_1_avg_df,bins=100)\n",
    "ax_1.set_xlim(18,30)\n",
    "ax_1.set_xlabel(\"\\n Average Active Days per Player (of 1000 samples with samples size of 1000)\",fontsize=15)\n",
    "ax_1.set_ylabel(\"Frequency \\n\", fontsize=15)\n",
    "ax_1.set_title(\"Histogram of Average Active Days for 1000 Sample Averages \\n\", fontsize=30)\n",
    "\n",
    "plt.show()"
   ]
  },
  {
   "cell_type": "markdown",
   "metadata": {},
   "source": [
    "# Q5: Randomly select 10000 samples with sample size 1000 and plot the histogram of \"average active days per player\" of each sample."
   ]
  },
  {
   "cell_type": "code",
   "execution_count": 101,
   "metadata": {},
   "outputs": [
    {
     "data": {
      "text/html": [
       "<div>\n",
       "<style scoped>\n",
       "    .dataframe tbody tr th:only-of-type {\n",
       "        vertical-align: middle;\n",
       "    }\n",
       "\n",
       "    .dataframe tbody tr th {\n",
       "        vertical-align: top;\n",
       "    }\n",
       "\n",
       "    .dataframe thead th {\n",
       "        text-align: right;\n",
       "    }\n",
       "</style>\n",
       "<table border=\"1\" class=\"dataframe\">\n",
       "  <thead>\n",
       "    <tr style=\"text-align: right;\">\n",
       "      <th></th>\n",
       "      <th>ACTIVEDAYS</th>\n",
       "    </tr>\n",
       "  </thead>\n",
       "  <tbody>\n",
       "    <tr>\n",
       "      <th>0</th>\n",
       "      <td>26.164</td>\n",
       "    </tr>\n",
       "    <tr>\n",
       "      <th>1</th>\n",
       "      <td>22.791</td>\n",
       "    </tr>\n",
       "    <tr>\n",
       "      <th>2</th>\n",
       "      <td>24.387</td>\n",
       "    </tr>\n",
       "    <tr>\n",
       "      <th>3</th>\n",
       "      <td>24.864</td>\n",
       "    </tr>\n",
       "    <tr>\n",
       "      <th>4</th>\n",
       "      <td>23.535</td>\n",
       "    </tr>\n",
       "    <tr>\n",
       "      <th>...</th>\n",
       "      <td>...</td>\n",
       "    </tr>\n",
       "    <tr>\n",
       "      <th>9995</th>\n",
       "      <td>25.551</td>\n",
       "    </tr>\n",
       "    <tr>\n",
       "      <th>9996</th>\n",
       "      <td>21.181</td>\n",
       "    </tr>\n",
       "    <tr>\n",
       "      <th>9997</th>\n",
       "      <td>23.635</td>\n",
       "    </tr>\n",
       "    <tr>\n",
       "      <th>9998</th>\n",
       "      <td>24.977</td>\n",
       "    </tr>\n",
       "    <tr>\n",
       "      <th>9999</th>\n",
       "      <td>24.473</td>\n",
       "    </tr>\n",
       "  </tbody>\n",
       "</table>\n",
       "<p>10000 rows × 1 columns</p>\n",
       "</div>"
      ],
      "text/plain": [
       "      ACTIVEDAYS\n",
       "0         26.164\n",
       "1         22.791\n",
       "2         24.387\n",
       "3         24.864\n",
       "4         23.535\n",
       "...          ...\n",
       "9995      25.551\n",
       "9996      21.181\n",
       "9997      23.635\n",
       "9998      24.977\n",
       "9999      24.473\n",
       "\n",
       "[10000 rows x 1 columns]"
      ]
     },
     "execution_count": 101,
     "metadata": {},
     "output_type": "execute_result"
    }
   ],
   "source": [
    "# run 10000 times of selecting 1000 samples, and save the mean to another data frame\n",
    "avg_2 = []\n",
    "for i in range(10000):\n",
    "    civ6_sample_1k = civ6_active_days.sample(n=1000)\n",
    "    sample_1k_avg_days = civ6_sample_1k.mean()\n",
    "    avg_2.append(sample_1k_avg_days)\n",
    "    \n",
    "sample_2_avg_df = pd.DataFrame(avg_2)\n",
    "sample_2_avg_df"
   ]
  },
  {
   "cell_type": "code",
   "execution_count": 145,
   "metadata": {},
   "outputs": [
    {
     "name": "stdout",
     "output_type": "stream",
     "text": [
      "ACTIVEDAYS    18.317\n",
      "dtype: float64\n",
      "ACTIVEDAYS    30.184\n",
      "dtype: float64\n"
     ]
    }
   ],
   "source": [
    "print(sample_2_avg_df.min())\n",
    "print(sample_2_avg_df.max())"
   ]
  },
  {
   "cell_type": "code",
   "execution_count": 148,
   "metadata": {},
   "outputs": [
    {
     "data": {
      "image/png": "[encoded data removed]",
      "text/plain": [
       "<Figure size 1440x720 with 1 Axes>"
      ]
     },
     "metadata": {},
     "output_type": "display_data"
    }
   ],
   "source": [
    "# plot the histogram for each of the 10000 samples of average active days\n",
    "fig,ax_2 = plt.subplots()\n",
    "\n",
    "plt.hist(sample_2_avg_df,bins=100)\n",
    "ax_2.set_xlim(18,30)\n",
    "ax_2.set_xlabel(\"\\n Average Active Days per Player (of 10000 samples with samples size of 1000)\",fontsize=15)\n",
    "ax_2.set_ylabel(\"Frequency \\n\", fontsize=15)\n",
    "ax_2.set_title(\"Histogram of Average Active Days for 10000 Sample Averages \\n\", fontsize=30)\n",
    "\n",
    "plt.show()"
   ]
  },
  {
   "cell_type": "markdown",
   "metadata": {},
   "source": [
    "# Q6: Plot the histogram of \"active days\" for entire population. (Use the same parameters as bins with Q4-5 histograms and compare these 3 histograms"
   ]
  },
  {
   "cell_type": "code",
   "execution_count": 143,
   "metadata": {},
   "outputs": [
    {
     "name": "stdout",
     "output_type": "stream",
     "text": [
      "ACTIVEDAYS    1\n",
      "dtype: int64\n",
      "ACTIVEDAYS    1081\n",
      "dtype: int64\n"
     ]
    }
   ],
   "source": [
    "print(civ6_active_days.min())\n",
    "print(civ6_active_days.max())"
   ]
  },
  {
   "cell_type": "code",
   "execution_count": 142,
   "metadata": {},
   "outputs": [
    {
     "data": {
      "image/png": "[encoded data removed]",
      "text/plain": [
       "<Figure size 1440x720 with 1 Axes>"
      ]
     },
     "metadata": {},
     "output_type": "display_data"
    }
   ],
   "source": [
    "fig,ax = plt.subplots()\n",
    "\n",
    "plt.hist(civ6_active_days,bins=100)\n",
    "ax.set_xlim(0,1100)\n",
    "ax.set_xlabel(\"\\n Active Days per Player (of the population)\",fontsize=15)\n",
    "ax.set_ylabel(\"Frequency \\n\", fontsize=15)\n",
    "ax.set_title(\"Histogram of Active Days for Entire Population \\n\", fontsize=30)\n",
    "\n",
    "plt.show()"
   ]
  },
  {
   "cell_type": "markdown",
   "metadata": {},
   "source": [
    "# Q7: Tell me what you see if you compare Q4-Q5 and Q6 histograms. What is your insight?\n",
    "\n"
   ]
  },
  {
   "cell_type": "markdown",
   "metadata": {},
   "source": [
    "> ### Compare the Histogram of Q4, Q5, and Q6\n",
    "> Note: Q4, Q5, and Q6 are histogram plots of average active days between sample set of 1000, sample set of 10000 and population active days respectively.\n",
    "\n",
    "> First of all, Q6 is a completely different histogram from Q4 and Q5, thus we will first take a look at Q4 and Q5. Similarities between these two graphs are: 1) Both graphys are pretty close to normal distribution. 2) both graphs have pretty similar range of average active days. 3) the mode for average active days for both graphs are very close, around 23.3 days.\n",
    "> Differences are as follows: 1) Q5 has a more perfect normal distribution than Q4. 2) the frequency of Q5 is about 10 times of the Q4, which makes sense because Q5's sample size is 10 times of the Q4.\n",
    "\n",
    "> Secondly, looking at Q6, Q6 is not a normal distribution. It's highly left skewed where more than 90% of the data are in the range of 0 to 200 days, although the highest data point is at 1081.This means almost all of the players never played the game more than 200 days. And most people only played no more than 25 days. \n",
    "\n",
    "> This corresponds with the mean and mode of the histograms of Q4 and Q5. And my takeaways is the more samples we select, the closer it is to the population mean. "
   ]
  }
 ],
 "metadata": {
  "kernelspec": {
   "display_name": "Python 3",
   "language": "python",
   "name": "python3"
  },
  "language_info": {
   "codemirror_mode": {
    "name": "ipython",
    "version": 3
   },
   "file_extension": ".py",
   "mimetype": "text/x-python",
   "name": "python",
   "nbconvert_exporter": "python",
   "pygments_lexer": "ipython3",
   "version": "3.8.5"
  }
 },
 "nbformat": 4,
 "nbformat_minor": 4
}
