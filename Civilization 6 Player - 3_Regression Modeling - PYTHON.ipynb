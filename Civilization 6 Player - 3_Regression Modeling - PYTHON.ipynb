{
 "cells": [
  {
   "cell_type": "markdown",
   "metadata": {},
   "source": [
    "# Civilization 6 Players\n",
    "# Multi-Linear Regression Modelling\n",
    "# Author: Lu (Christina) Jin"
   ]
  },
  {
   "cell_type": "markdown",
   "metadata": {},
   "source": [
    "# Setup: Import all libraries"
   ]
  },
  {
   "cell_type": "code",
   "execution_count": 533,
   "metadata": {},
   "outputs": [],
   "source": [
    "import os\n",
    "import io\n",
    "import numpy as np\n",
    "import pandas as pd\n",
    "import seaborn as sns\n",
    "import matplotlib.pyplot as plt\n",
    "import matplotlib.ticker as ticker\n",
    "import scipy as scipy\n",
    "import re\n",
    "import sklearn as sk\n",
    "import warnings\n",
    "\n",
    "import datetime as dt\n",
    "from sklearn import datasets\n",
    "from sklearn import linear_model\n",
    "from sklearn.model_selection import train_test_split\n",
    "from datetime import date\n",
    "from datetime import datetime\n",
    "from patsy import dmatrices\n",
    "from sklearn.model_selection import train_test_split\n",
    "from sklearn.linear_model import LinearRegression\n",
    "from sklearn.metrics import mean_squared_error, r2_score\n",
    "\n",
    "\n",
    "import statsmodels.api as sm\n",
    "from statsmodels.compat import lzip\n",
    "import statsmodels.stats.api as sms\n",
    "from statsmodels.stats.diagnostic import het_white\n",
    "from statsmodels.stats.outliers_influence import variance_inflation_factor\n",
    "from matplotlib.ticker import PercentFormatter\n",
    "from scipy import stats\n",
    "from scipy.stats import bartlett\n",
    "from pylab import rcParams\n",
    "rcParams['figure.figsize'] = (20, 10)\n",
    "sns.set_style('darkgrid')\n",
    "plt.style.use('seaborn-darkgrid')"
   ]
  },
  {
   "cell_type": "markdown",
   "metadata": {},
   "source": [
    "# Acquiring Dataset "
   ]
  },
  {
   "cell_type": "code",
   "execution_count": 534,
   "metadata": {},
   "outputs": [
    {
     "data": {
      "text/html": [
       "<div>\n",
       "<style scoped>\n",
       "    .dataframe tbody tr th:only-of-type {\n",
       "        vertical-align: middle;\n",
       "    }\n",
       "\n",
       "    .dataframe tbody tr th {\n",
       "        vertical-align: top;\n",
       "    }\n",
       "\n",
       "    .dataframe thead th {\n",
       "        text-align: right;\n",
       "    }\n",
       "</style>\n",
       "<table border=\"1\" class=\"dataframe\">\n",
       "  <thead>\n",
       "    <tr style=\"text-align: right;\">\n",
       "      <th></th>\n",
       "      <th>PLAYERID</th>\n",
       "      <th>INSTALLDATE</th>\n",
       "      <th>ACTIVEDAYS</th>\n",
       "      <th>LASTACTIVEDAY</th>\n",
       "      <th>LEADERMOSTSELECTED</th>\n",
       "      <th>CIVILIZATIONMOSTSELECTED</th>\n",
       "      <th>POLAND</th>\n",
       "      <th>NUBIA</th>\n",
       "      <th>KHMER_AND_INDONESIA</th>\n",
       "      <th>GATHERING_STORM</th>\n",
       "      <th>PERSIA_AND_MACEDON</th>\n",
       "      <th>VIKINGS</th>\n",
       "      <th>RISE_AND_FALL</th>\n",
       "      <th>AUSTRALIA</th>\n",
       "    </tr>\n",
       "  </thead>\n",
       "  <tbody>\n",
       "    <tr>\n",
       "      <th>0</th>\n",
       "      <td>3316379</td>\n",
       "      <td>2018-01-05</td>\n",
       "      <td>1</td>\n",
       "      <td>2018-01-05</td>\n",
       "      <td>LEADER_GILGAMESH</td>\n",
       "      <td>CIVILIZATION_SUMERIA</td>\n",
       "      <td>NaT</td>\n",
       "      <td>NaT</td>\n",
       "      <td>NaT</td>\n",
       "      <td>NaT</td>\n",
       "      <td>NaT</td>\n",
       "      <td>NaT</td>\n",
       "      <td>NaT</td>\n",
       "      <td>NaT</td>\n",
       "    </tr>\n",
       "    <tr>\n",
       "      <th>1</th>\n",
       "      <td>3316386</td>\n",
       "      <td>2018-01-05</td>\n",
       "      <td>3</td>\n",
       "      <td>2018-01-09</td>\n",
       "      <td>LEADER_TRAJAN</td>\n",
       "      <td>CIVILIZATION_ROME</td>\n",
       "      <td>NaT</td>\n",
       "      <td>NaT</td>\n",
       "      <td>NaT</td>\n",
       "      <td>NaT</td>\n",
       "      <td>NaT</td>\n",
       "      <td>NaT</td>\n",
       "      <td>NaT</td>\n",
       "      <td>NaT</td>\n",
       "    </tr>\n",
       "    <tr>\n",
       "      <th>2</th>\n",
       "      <td>3316394</td>\n",
       "      <td>2018-01-05</td>\n",
       "      <td>115</td>\n",
       "      <td>2018-07-08</td>\n",
       "      <td>LEADER_T_ROOSEVELT</td>\n",
       "      <td>CIVILIZATION_AMERICA</td>\n",
       "      <td>NaT</td>\n",
       "      <td>NaT</td>\n",
       "      <td>NaT</td>\n",
       "      <td>NaT</td>\n",
       "      <td>NaT</td>\n",
       "      <td>NaT</td>\n",
       "      <td>NaT</td>\n",
       "      <td>NaT</td>\n",
       "    </tr>\n",
       "    <tr>\n",
       "      <th>3</th>\n",
       "      <td>3888460</td>\n",
       "      <td>2018-03-04</td>\n",
       "      <td>112</td>\n",
       "      <td>2019-10-05</td>\n",
       "      <td>LEADER_HOJO</td>\n",
       "      <td>CIVILIZATION_JAPAN</td>\n",
       "      <td>NaT</td>\n",
       "      <td>NaT</td>\n",
       "      <td>NaT</td>\n",
       "      <td>NaT</td>\n",
       "      <td>NaT</td>\n",
       "      <td>NaT</td>\n",
       "      <td>NaT</td>\n",
       "      <td>NaT</td>\n",
       "    </tr>\n",
       "    <tr>\n",
       "      <th>4</th>\n",
       "      <td>3940600</td>\n",
       "      <td>2018-03-12</td>\n",
       "      <td>1</td>\n",
       "      <td>2018-03-12</td>\n",
       "      <td>LEADER_PALA</td>\n",
       "      <td>CIVILIZATION_PALA</td>\n",
       "      <td>NaT</td>\n",
       "      <td>NaT</td>\n",
       "      <td>2018-03-12</td>\n",
       "      <td>NaT</td>\n",
       "      <td>NaT</td>\n",
       "      <td>NaT</td>\n",
       "      <td>NaT</td>\n",
       "      <td>NaT</td>\n",
       "    </tr>\n",
       "    <tr>\n",
       "      <th>...</th>\n",
       "      <td>...</td>\n",
       "      <td>...</td>\n",
       "      <td>...</td>\n",
       "      <td>...</td>\n",
       "      <td>...</td>\n",
       "      <td>...</td>\n",
       "      <td>...</td>\n",
       "      <td>...</td>\n",
       "      <td>...</td>\n",
       "      <td>...</td>\n",
       "      <td>...</td>\n",
       "      <td>...</td>\n",
       "      <td>...</td>\n",
       "      <td>...</td>\n",
       "    </tr>\n",
       "    <tr>\n",
       "      <th>499995</th>\n",
       "      <td>2969114</td>\n",
       "      <td>2017-11-12</td>\n",
       "      <td>11</td>\n",
       "      <td>2019-06-06</td>\n",
       "      <td>LEADER_CLEOPATRA</td>\n",
       "      <td>CIVILIZATION_EGYPT</td>\n",
       "      <td>NaT</td>\n",
       "      <td>NaT</td>\n",
       "      <td>NaT</td>\n",
       "      <td>NaT</td>\n",
       "      <td>NaT</td>\n",
       "      <td>NaT</td>\n",
       "      <td>NaT</td>\n",
       "      <td>NaT</td>\n",
       "    </tr>\n",
       "    <tr>\n",
       "      <th>499996</th>\n",
       "      <td>2945770</td>\n",
       "      <td>2017-11-04</td>\n",
       "      <td>2</td>\n",
       "      <td>2018-02-05</td>\n",
       "      <td>LEADER_BARBAROSSA</td>\n",
       "      <td>CIVILIZATION_GERMANY</td>\n",
       "      <td>NaT</td>\n",
       "      <td>NaT</td>\n",
       "      <td>NaT</td>\n",
       "      <td>NaT</td>\n",
       "      <td>NaT</td>\n",
       "      <td>NaT</td>\n",
       "      <td>NaT</td>\n",
       "      <td>NaT</td>\n",
       "    </tr>\n",
       "    <tr>\n",
       "      <th>499997</th>\n",
       "      <td>2945778</td>\n",
       "      <td>2017-11-04</td>\n",
       "      <td>4</td>\n",
       "      <td>2017-11-11</td>\n",
       "      <td>LEADER_QIN</td>\n",
       "      <td>CIVILIZATION_CHINA</td>\n",
       "      <td>NaT</td>\n",
       "      <td>NaT</td>\n",
       "      <td>NaT</td>\n",
       "      <td>NaT</td>\n",
       "      <td>NaT</td>\n",
       "      <td>NaT</td>\n",
       "      <td>NaT</td>\n",
       "      <td>NaT</td>\n",
       "    </tr>\n",
       "    <tr>\n",
       "      <th>499998</th>\n",
       "      <td>3309420</td>\n",
       "      <td>2018-01-04</td>\n",
       "      <td>6</td>\n",
       "      <td>2018-01-11</td>\n",
       "      <td>LEADER_VICTORIA</td>\n",
       "      <td>CIVILIZATION_ENGLAND</td>\n",
       "      <td>NaT</td>\n",
       "      <td>NaT</td>\n",
       "      <td>NaT</td>\n",
       "      <td>NaT</td>\n",
       "      <td>NaT</td>\n",
       "      <td>NaT</td>\n",
       "      <td>NaT</td>\n",
       "      <td>NaT</td>\n",
       "    </tr>\n",
       "    <tr>\n",
       "      <th>499999</th>\n",
       "      <td>2945794</td>\n",
       "      <td>2017-11-04</td>\n",
       "      <td>46</td>\n",
       "      <td>2019-08-24</td>\n",
       "      <td>LEADER_T_ROOSEVELT</td>\n",
       "      <td>CIVILIZATION_AMERICA</td>\n",
       "      <td>NaT</td>\n",
       "      <td>NaT</td>\n",
       "      <td>NaT</td>\n",
       "      <td>NaT</td>\n",
       "      <td>NaT</td>\n",
       "      <td>NaT</td>\n",
       "      <td>NaT</td>\n",
       "      <td>NaT</td>\n",
       "    </tr>\n",
       "  </tbody>\n",
       "</table>\n",
       "<p>500000 rows × 14 columns</p>\n",
       "</div>"
      ],
      "text/plain": [
       "        PLAYERID INSTALLDATE  ACTIVEDAYS LASTACTIVEDAY  LEADERMOSTSELECTED  \\\n",
       "0        3316379  2018-01-05           1    2018-01-05    LEADER_GILGAMESH   \n",
       "1        3316386  2018-01-05           3    2018-01-09       LEADER_TRAJAN   \n",
       "2        3316394  2018-01-05         115    2018-07-08  LEADER_T_ROOSEVELT   \n",
       "3        3888460  2018-03-04         112    2019-10-05         LEADER_HOJO   \n",
       "4        3940600  2018-03-12           1    2018-03-12         LEADER_PALA   \n",
       "...          ...         ...         ...           ...                 ...   \n",
       "499995   2969114  2017-11-12          11    2019-06-06    LEADER_CLEOPATRA   \n",
       "499996   2945770  2017-11-04           2    2018-02-05   LEADER_BARBAROSSA   \n",
       "499997   2945778  2017-11-04           4    2017-11-11          LEADER_QIN   \n",
       "499998   3309420  2018-01-04           6    2018-01-11     LEADER_VICTORIA   \n",
       "499999   2945794  2017-11-04          46    2019-08-24  LEADER_T_ROOSEVELT   \n",
       "\n",
       "       CIVILIZATIONMOSTSELECTED POLAND NUBIA KHMER_AND_INDONESIA  \\\n",
       "0          CIVILIZATION_SUMERIA    NaT   NaT                 NaT   \n",
       "1             CIVILIZATION_ROME    NaT   NaT                 NaT   \n",
       "2          CIVILIZATION_AMERICA    NaT   NaT                 NaT   \n",
       "3            CIVILIZATION_JAPAN    NaT   NaT                 NaT   \n",
       "4             CIVILIZATION_PALA    NaT   NaT          2018-03-12   \n",
       "...                         ...    ...   ...                 ...   \n",
       "499995       CIVILIZATION_EGYPT    NaT   NaT                 NaT   \n",
       "499996     CIVILIZATION_GERMANY    NaT   NaT                 NaT   \n",
       "499997       CIVILIZATION_CHINA    NaT   NaT                 NaT   \n",
       "499998     CIVILIZATION_ENGLAND    NaT   NaT                 NaT   \n",
       "499999     CIVILIZATION_AMERICA    NaT   NaT                 NaT   \n",
       "\n",
       "       GATHERING_STORM PERSIA_AND_MACEDON VIKINGS RISE_AND_FALL AUSTRALIA  \n",
       "0                  NaT                NaT     NaT           NaT       NaT  \n",
       "1                  NaT                NaT     NaT           NaT       NaT  \n",
       "2                  NaT                NaT     NaT           NaT       NaT  \n",
       "3                  NaT                NaT     NaT           NaT       NaT  \n",
       "4                  NaT                NaT     NaT           NaT       NaT  \n",
       "...                ...                ...     ...           ...       ...  \n",
       "499995             NaT                NaT     NaT           NaT       NaT  \n",
       "499996             NaT                NaT     NaT           NaT       NaT  \n",
       "499997             NaT                NaT     NaT           NaT       NaT  \n",
       "499998             NaT                NaT     NaT           NaT       NaT  \n",
       "499999             NaT                NaT     NaT           NaT       NaT  \n",
       "\n",
       "[500000 rows x 14 columns]"
      ]
     },
     "execution_count": 534,
     "metadata": {},
     "output_type": "execute_result"
    }
   ],
   "source": [
    "# Read data\n",
    "civ6_players_path = r'C:\\Users\\Lu_ki\\OneDrive - Northeastern University\\NU Master Courseworks\\ALY6050\\Course Materials\\Module 1\\M1 Project 1\\civ6_players.xlsx'\n",
    "civ6 = pd.read_excel(civ6_players_path)\n",
    "civ6"
   ]
  },
  {
   "cell_type": "code",
   "execution_count": 535,
   "metadata": {},
   "outputs": [
    {
     "name": "stdout",
     "output_type": "stream",
     "text": [
      "<class 'pandas.core.frame.DataFrame'>\n",
      "RangeIndex: 500000 entries, 0 to 499999\n",
      "Data columns (total 14 columns):\n",
      " #   Column                    Non-Null Count   Dtype         \n",
      "---  ------                    --------------   -----         \n",
      " 0   PLAYERID                  500000 non-null  int64         \n",
      " 1   INSTALLDATE               500000 non-null  datetime64[ns]\n",
      " 2   ACTIVEDAYS                500000 non-null  int64         \n",
      " 3   LASTACTIVEDAY             500000 non-null  datetime64[ns]\n",
      " 4   LEADERMOSTSELECTED        500000 non-null  object        \n",
      " 5   CIVILIZATIONMOSTSELECTED  500000 non-null  object        \n",
      " 6   POLAND                    44665 non-null   datetime64[ns]\n",
      " 7   NUBIA                     29385 non-null   datetime64[ns]\n",
      " 8   KHMER_AND_INDONESIA       26678 non-null   datetime64[ns]\n",
      " 9   GATHERING_STORM           68484 non-null   datetime64[ns]\n",
      " 10  PERSIA_AND_MACEDON        60841 non-null   datetime64[ns]\n",
      " 11  VIKINGS                   18670 non-null   datetime64[ns]\n",
      " 12  RISE_AND_FALL             110739 non-null  datetime64[ns]\n",
      " 13  AUSTRALIA                 21078 non-null   datetime64[ns]\n",
      "dtypes: datetime64[ns](10), int64(2), object(2)\n",
      "memory usage: 53.4+ MB\n"
     ]
    }
   ],
   "source": [
    "civ6.info()"
   ]
  },
  {
   "cell_type": "markdown",
   "metadata": {},
   "source": [
    "# Q1: You want to test an hypothesis and the hypothesis says that there is a relationship between:\n",
    ">## Y= number of DLCs a player purchased\n",
    ">## X1= active days\n",
    ">## X2= number of expansion packs installed\n",
    ">## X3= The distance of a player's install date from launch (For instance, CIV6 is released on Oct 21st  2016 and if a player installed the game on Oct 29th 2016 then the distance from launch is 8 days for this player)\n",
    "# Please run a multiple regression model to test this hypothesis"
   ]
  },
  {
   "cell_type": "code",
   "execution_count": 536,
   "metadata": {},
   "outputs": [
    {
     "data": {
      "text/html": [
       "<div>\n",
       "<style scoped>\n",
       "    .dataframe tbody tr th:only-of-type {\n",
       "        vertical-align: middle;\n",
       "    }\n",
       "\n",
       "    .dataframe tbody tr th {\n",
       "        vertical-align: top;\n",
       "    }\n",
       "\n",
       "    .dataframe thead th {\n",
       "        text-align: right;\n",
       "    }\n",
       "</style>\n",
       "<table border=\"1\" class=\"dataframe\">\n",
       "  <thead>\n",
       "    <tr style=\"text-align: right;\">\n",
       "      <th></th>\n",
       "      <th>POLAND</th>\n",
       "      <th>NUBIA</th>\n",
       "      <th>KHMER_AND_INDONESIA</th>\n",
       "      <th>PERSIA_AND_MACEDON</th>\n",
       "      <th>VIKINGS</th>\n",
       "      <th>AUSTRALIA</th>\n",
       "    </tr>\n",
       "  </thead>\n",
       "  <tbody>\n",
       "    <tr>\n",
       "      <th>0</th>\n",
       "      <td>NaT</td>\n",
       "      <td>NaT</td>\n",
       "      <td>NaT</td>\n",
       "      <td>NaT</td>\n",
       "      <td>NaT</td>\n",
       "      <td>NaT</td>\n",
       "    </tr>\n",
       "    <tr>\n",
       "      <th>1</th>\n",
       "      <td>NaT</td>\n",
       "      <td>NaT</td>\n",
       "      <td>NaT</td>\n",
       "      <td>NaT</td>\n",
       "      <td>NaT</td>\n",
       "      <td>NaT</td>\n",
       "    </tr>\n",
       "    <tr>\n",
       "      <th>2</th>\n",
       "      <td>NaT</td>\n",
       "      <td>NaT</td>\n",
       "      <td>NaT</td>\n",
       "      <td>NaT</td>\n",
       "      <td>NaT</td>\n",
       "      <td>NaT</td>\n",
       "    </tr>\n",
       "    <tr>\n",
       "      <th>3</th>\n",
       "      <td>NaT</td>\n",
       "      <td>NaT</td>\n",
       "      <td>NaT</td>\n",
       "      <td>NaT</td>\n",
       "      <td>NaT</td>\n",
       "      <td>NaT</td>\n",
       "    </tr>\n",
       "    <tr>\n",
       "      <th>4</th>\n",
       "      <td>NaT</td>\n",
       "      <td>NaT</td>\n",
       "      <td>2018-03-12</td>\n",
       "      <td>NaT</td>\n",
       "      <td>NaT</td>\n",
       "      <td>NaT</td>\n",
       "    </tr>\n",
       "    <tr>\n",
       "      <th>...</th>\n",
       "      <td>...</td>\n",
       "      <td>...</td>\n",
       "      <td>...</td>\n",
       "      <td>...</td>\n",
       "      <td>...</td>\n",
       "      <td>...</td>\n",
       "    </tr>\n",
       "    <tr>\n",
       "      <th>499995</th>\n",
       "      <td>NaT</td>\n",
       "      <td>NaT</td>\n",
       "      <td>NaT</td>\n",
       "      <td>NaT</td>\n",
       "      <td>NaT</td>\n",
       "      <td>NaT</td>\n",
       "    </tr>\n",
       "    <tr>\n",
       "      <th>499996</th>\n",
       "      <td>NaT</td>\n",
       "      <td>NaT</td>\n",
       "      <td>NaT</td>\n",
       "      <td>NaT</td>\n",
       "      <td>NaT</td>\n",
       "      <td>NaT</td>\n",
       "    </tr>\n",
       "    <tr>\n",
       "      <th>499997</th>\n",
       "      <td>NaT</td>\n",
       "      <td>NaT</td>\n",
       "      <td>NaT</td>\n",
       "      <td>NaT</td>\n",
       "      <td>NaT</td>\n",
       "      <td>NaT</td>\n",
       "    </tr>\n",
       "    <tr>\n",
       "      <th>499998</th>\n",
       "      <td>NaT</td>\n",
       "      <td>NaT</td>\n",
       "      <td>NaT</td>\n",
       "      <td>NaT</td>\n",
       "      <td>NaT</td>\n",
       "      <td>NaT</td>\n",
       "    </tr>\n",
       "    <tr>\n",
       "      <th>499999</th>\n",
       "      <td>NaT</td>\n",
       "      <td>NaT</td>\n",
       "      <td>NaT</td>\n",
       "      <td>NaT</td>\n",
       "      <td>NaT</td>\n",
       "      <td>NaT</td>\n",
       "    </tr>\n",
       "  </tbody>\n",
       "</table>\n",
       "<p>500000 rows × 6 columns</p>\n",
       "</div>"
      ],
      "text/plain": [
       "       POLAND NUBIA KHMER_AND_INDONESIA PERSIA_AND_MACEDON VIKINGS AUSTRALIA\n",
       "0         NaT   NaT                 NaT                NaT     NaT       NaT\n",
       "1         NaT   NaT                 NaT                NaT     NaT       NaT\n",
       "2         NaT   NaT                 NaT                NaT     NaT       NaT\n",
       "3         NaT   NaT                 NaT                NaT     NaT       NaT\n",
       "4         NaT   NaT          2018-03-12                NaT     NaT       NaT\n",
       "...       ...   ...                 ...                ...     ...       ...\n",
       "499995    NaT   NaT                 NaT                NaT     NaT       NaT\n",
       "499996    NaT   NaT                 NaT                NaT     NaT       NaT\n",
       "499997    NaT   NaT                 NaT                NaT     NaT       NaT\n",
       "499998    NaT   NaT                 NaT                NaT     NaT       NaT\n",
       "499999    NaT   NaT                 NaT                NaT     NaT       NaT\n",
       "\n",
       "[500000 rows x 6 columns]"
      ]
     },
     "execution_count": 536,
     "metadata": {},
     "output_type": "execute_result"
    }
   ],
   "source": [
    "# create subset df for DLC\n",
    "DLC_df = civ6[[\"POLAND\",\"NUBIA\",\"KHMER_AND_INDONESIA\",\n",
    "               \"PERSIA_AND_MACEDON\", \"VIKINGS\",\"AUSTRALIA\"]]\n",
    "DLC_df"
   ]
  },
  {
   "cell_type": "code",
   "execution_count": 537,
   "metadata": {},
   "outputs": [],
   "source": [
    "# define y and x1\n",
    "y = DLC_df.count(axis='columns')\n",
    "y = y.rename('Purchased_DLCs')\n",
    "Y = pd.DataFrame(y)\n",
    "\n",
    "x1 = civ6['ACTIVEDAYS']\n",
    "x1 = x1.rename('Active_Days')"
   ]
  },
  {
   "cell_type": "code",
   "execution_count": 538,
   "metadata": {
    "scrolled": false
   },
   "outputs": [
    {
     "data": {
      "text/html": [
       "<div>\n",
       "<style scoped>\n",
       "    .dataframe tbody tr th:only-of-type {\n",
       "        vertical-align: middle;\n",
       "    }\n",
       "\n",
       "    .dataframe tbody tr th {\n",
       "        vertical-align: top;\n",
       "    }\n",
       "\n",
       "    .dataframe thead th {\n",
       "        text-align: right;\n",
       "    }\n",
       "</style>\n",
       "<table border=\"1\" class=\"dataframe\">\n",
       "  <thead>\n",
       "    <tr style=\"text-align: right;\">\n",
       "      <th></th>\n",
       "      <th>GATHERING_STORM</th>\n",
       "      <th>RISE_AND_FALL</th>\n",
       "    </tr>\n",
       "  </thead>\n",
       "  <tbody>\n",
       "    <tr>\n",
       "      <th>0</th>\n",
       "      <td>NaT</td>\n",
       "      <td>NaT</td>\n",
       "    </tr>\n",
       "    <tr>\n",
       "      <th>1</th>\n",
       "      <td>NaT</td>\n",
       "      <td>NaT</td>\n",
       "    </tr>\n",
       "    <tr>\n",
       "      <th>2</th>\n",
       "      <td>NaT</td>\n",
       "      <td>NaT</td>\n",
       "    </tr>\n",
       "    <tr>\n",
       "      <th>3</th>\n",
       "      <td>NaT</td>\n",
       "      <td>NaT</td>\n",
       "    </tr>\n",
       "    <tr>\n",
       "      <th>4</th>\n",
       "      <td>NaT</td>\n",
       "      <td>NaT</td>\n",
       "    </tr>\n",
       "    <tr>\n",
       "      <th>...</th>\n",
       "      <td>...</td>\n",
       "      <td>...</td>\n",
       "    </tr>\n",
       "    <tr>\n",
       "      <th>499995</th>\n",
       "      <td>NaT</td>\n",
       "      <td>NaT</td>\n",
       "    </tr>\n",
       "    <tr>\n",
       "      <th>499996</th>\n",
       "      <td>NaT</td>\n",
       "      <td>NaT</td>\n",
       "    </tr>\n",
       "    <tr>\n",
       "      <th>499997</th>\n",
       "      <td>NaT</td>\n",
       "      <td>NaT</td>\n",
       "    </tr>\n",
       "    <tr>\n",
       "      <th>499998</th>\n",
       "      <td>NaT</td>\n",
       "      <td>NaT</td>\n",
       "    </tr>\n",
       "    <tr>\n",
       "      <th>499999</th>\n",
       "      <td>NaT</td>\n",
       "      <td>NaT</td>\n",
       "    </tr>\n",
       "  </tbody>\n",
       "</table>\n",
       "<p>500000 rows × 2 columns</p>\n",
       "</div>"
      ],
      "text/plain": [
       "       GATHERING_STORM RISE_AND_FALL\n",
       "0                  NaT           NaT\n",
       "1                  NaT           NaT\n",
       "2                  NaT           NaT\n",
       "3                  NaT           NaT\n",
       "4                  NaT           NaT\n",
       "...                ...           ...\n",
       "499995             NaT           NaT\n",
       "499996             NaT           NaT\n",
       "499997             NaT           NaT\n",
       "499998             NaT           NaT\n",
       "499999             NaT           NaT\n",
       "\n",
       "[500000 rows x 2 columns]"
      ]
     },
     "execution_count": 538,
     "metadata": {},
     "output_type": "execute_result"
    }
   ],
   "source": [
    "# create subset df for extension packs\n",
    "EP_df = civ6[[\"GATHERING_STORM\", \"RISE_AND_FALL\"]]\n",
    "EP_df"
   ]
  },
  {
   "cell_type": "code",
   "execution_count": 539,
   "metadata": {},
   "outputs": [],
   "source": [
    "# define x2\n",
    "x2 = EP_df.count(axis='columns')\n",
    "x2 = x2.rename('Extension_Packs')"
   ]
  },
  {
   "cell_type": "code",
   "execution_count": 540,
   "metadata": {},
   "outputs": [],
   "source": [
    "# 2nd method define x2\n",
    "#civ6['LAUNCHDATE'] = \"2016-10-21\"\n",
    "#civ6['LAUNCHDATE'] = pd.to_datetime(civ6['LAUNCHDATE'])\n",
    "#civ6['DATEDIFFERENCE'] = (civ6['INSTALLDATE']-civ6['LAUNCHDATE']).dt.days\n",
    "#civ6.head()"
   ]
  },
  {
   "cell_type": "code",
   "execution_count": 541,
   "metadata": {},
   "outputs": [
    {
     "data": {
      "text/plain": [
       "0         441\n",
       "1         441\n",
       "2         441\n",
       "3         499\n",
       "4         507\n",
       "         ... \n",
       "499995    387\n",
       "499996    379\n",
       "499997    379\n",
       "499998    440\n",
       "499999    379\n",
       "Name: Install_Distance, Length: 500000, dtype: int64"
      ]
     },
     "execution_count": 541,
     "metadata": {},
     "output_type": "execute_result"
    }
   ],
   "source": [
    "# define x3\n",
    "launch_date = pd.to_datetime(\"2016-10-21\")\n",
    "x3=(civ6['INSTALLDATE']-launch_date).dt.days\n",
    "x3 = x3.rename('Install_Distance')\n",
    "#df_x3 = pd.DataFrame(x3)\n",
    "x3"
   ]
  },
  {
   "cell_type": "code",
   "execution_count": 542,
   "metadata": {},
   "outputs": [
    {
     "data": {
      "text/html": [
       "<div>\n",
       "<style scoped>\n",
       "    .dataframe tbody tr th:only-of-type {\n",
       "        vertical-align: middle;\n",
       "    }\n",
       "\n",
       "    .dataframe tbody tr th {\n",
       "        vertical-align: top;\n",
       "    }\n",
       "\n",
       "    .dataframe thead th {\n",
       "        text-align: right;\n",
       "    }\n",
       "</style>\n",
       "<table border=\"1\" class=\"dataframe\">\n",
       "  <thead>\n",
       "    <tr style=\"text-align: right;\">\n",
       "      <th></th>\n",
       "      <th>Active_Days</th>\n",
       "      <th>Extension_Packs</th>\n",
       "      <th>Install_Distance</th>\n",
       "      <th>Purchased_DLCs</th>\n",
       "    </tr>\n",
       "  </thead>\n",
       "  <tbody>\n",
       "    <tr>\n",
       "      <th>0</th>\n",
       "      <td>1</td>\n",
       "      <td>0</td>\n",
       "      <td>441</td>\n",
       "      <td>0</td>\n",
       "    </tr>\n",
       "    <tr>\n",
       "      <th>1</th>\n",
       "      <td>3</td>\n",
       "      <td>0</td>\n",
       "      <td>441</td>\n",
       "      <td>0</td>\n",
       "    </tr>\n",
       "    <tr>\n",
       "      <th>2</th>\n",
       "      <td>115</td>\n",
       "      <td>0</td>\n",
       "      <td>441</td>\n",
       "      <td>0</td>\n",
       "    </tr>\n",
       "    <tr>\n",
       "      <th>3</th>\n",
       "      <td>112</td>\n",
       "      <td>0</td>\n",
       "      <td>499</td>\n",
       "      <td>0</td>\n",
       "    </tr>\n",
       "    <tr>\n",
       "      <th>4</th>\n",
       "      <td>1</td>\n",
       "      <td>0</td>\n",
       "      <td>507</td>\n",
       "      <td>1</td>\n",
       "    </tr>\n",
       "    <tr>\n",
       "      <th>...</th>\n",
       "      <td>...</td>\n",
       "      <td>...</td>\n",
       "      <td>...</td>\n",
       "      <td>...</td>\n",
       "    </tr>\n",
       "    <tr>\n",
       "      <th>499995</th>\n",
       "      <td>11</td>\n",
       "      <td>0</td>\n",
       "      <td>387</td>\n",
       "      <td>0</td>\n",
       "    </tr>\n",
       "    <tr>\n",
       "      <th>499996</th>\n",
       "      <td>2</td>\n",
       "      <td>0</td>\n",
       "      <td>379</td>\n",
       "      <td>0</td>\n",
       "    </tr>\n",
       "    <tr>\n",
       "      <th>499997</th>\n",
       "      <td>4</td>\n",
       "      <td>0</td>\n",
       "      <td>379</td>\n",
       "      <td>0</td>\n",
       "    </tr>\n",
       "    <tr>\n",
       "      <th>499998</th>\n",
       "      <td>6</td>\n",
       "      <td>0</td>\n",
       "      <td>440</td>\n",
       "      <td>0</td>\n",
       "    </tr>\n",
       "    <tr>\n",
       "      <th>499999</th>\n",
       "      <td>46</td>\n",
       "      <td>0</td>\n",
       "      <td>379</td>\n",
       "      <td>0</td>\n",
       "    </tr>\n",
       "  </tbody>\n",
       "</table>\n",
       "<p>500000 rows × 4 columns</p>\n",
       "</div>"
      ],
      "text/plain": [
       "        Active_Days  Extension_Packs  Install_Distance  Purchased_DLCs\n",
       "0                 1                0               441               0\n",
       "1                 3                0               441               0\n",
       "2               115                0               441               0\n",
       "3               112                0               499               0\n",
       "4                 1                0               507               1\n",
       "...             ...              ...               ...             ...\n",
       "499995           11                0               387               0\n",
       "499996            2                0               379               0\n",
       "499997            4                0               379               0\n",
       "499998            6                0               440               0\n",
       "499999           46                0               379               0\n",
       "\n",
       "[500000 rows x 4 columns]"
      ]
     },
     "execution_count": 542,
     "metadata": {},
     "output_type": "execute_result"
    }
   ],
   "source": [
    "# the independent variables set\n",
    "X = pd.concat([x1,x2,x3], axis =1)\n",
    "# independent and dependent variables all in one set\n",
    "all_var = pd.concat([x1,x2,x3,y], axis =1)\n",
    "all_var"
   ]
  },
  {
   "cell_type": "markdown",
   "metadata": {},
   "source": [
    "# Q1: a) Check multicollinearity by using Correlation plots and calculating VIF values. Is there any issues?"
   ]
  },
  {
   "cell_type": "code",
   "execution_count": 543,
   "metadata": {},
   "outputs": [],
   "source": [
    "#corr_plt = all_var.corr()[['DLCs']].sort_values(by='DLCs', ascending=False)\n",
    "#plt.figure(figsize=(6, 10))\n",
    "#heatmap = sns.heatmap(corr_plt, vmin=-1, vmax=1, annot=True, cmap='rocket')\n",
    "#heatmap.set_title('Features Correlating with Number of DLCs Purchased', fontdict={'fontsize':18}, pad=16);"
   ]
  },
  {
   "cell_type": "code",
   "execution_count": 544,
   "metadata": {},
   "outputs": [
    {
     "data": {
      "text/plain": [
       "Text(0.5, 1.0, 'Correlation Plot')"
      ]
     },
     "execution_count": 544,
     "metadata": {},
     "output_type": "execute_result"
    },
    {
     "data": {
      "image/png": "[encoded data removed]",
      "text/plain": [
       "<Figure size 1296x1296 with 2 Axes>"
      ]
     },
     "metadata": {},
     "output_type": "display_data"
    }
   ],
   "source": [
    "# correlation plot\n",
    "plt.figure(figsize=(18,18))\n",
    "heatmap=sns.heatmap(all_var.corr(), annot=True,cmap='rocket',square=True)\n",
    "heatmap.set_title('Correlation Plot', fontdict={'fontsize':25}, pad=18)"
   ]
  },
  {
   "cell_type": "markdown",
   "metadata": {},
   "source": [
    "> #### Interpreting Correlation Plot Results:\n",
    "> By inspecting the 3 x 3 sub-matrix to the top left of the entire plot, none of the explanatory variables have strong correlation with each other. Only there is a slight higher correlation between \"Extension Packs\" and \"Active Days\", which is roughly 0.43. This positive correlation means that the more days a player is active on the game, the higher changes that they will have more extansion packs installed. Although this correlation is relatively strong comparing to others, but it's not significant enough to claim the presents of a multicollinearity in the model."
   ]
  },
  {
   "cell_type": "code",
   "execution_count": 390,
   "metadata": {},
   "outputs": [],
   "source": [
    "#find design matrix for linear regression model using 'DLCs' as response variable \n",
    "#y, X = dmatrices('DLCs ~ Active_Days + Extension_Packs + Install_Distance', data=all_var, return_type='dataframe')"
   ]
  },
  {
   "cell_type": "code",
   "execution_count": 545,
   "metadata": {},
   "outputs": [
    {
     "name": "stdout",
     "output_type": "stream",
     "text": [
      "            Feature  VIF_Value\n",
      "0       Active_Days   1.429210\n",
      "1   Extension_Packs   1.571305\n",
      "2  Install_Distance   1.141556\n"
     ]
    }
   ],
   "source": [
    "# VIF dataframe\n",
    "vif = pd.DataFrame()\n",
    "vif[\"Feature\"] = X.columns\n",
    "  \n",
    "# calculating VIF for each variables\n",
    "vif[\"VIF_Value\"] = [variance_inflation_factor(X.values, i)\n",
    "                          for i in range(len(X.columns))]\n",
    "  \n",
    "print(vif)"
   ]
  },
  {
   "cell_type": "markdown",
   "metadata": {},
   "source": [
    "> #### Interpreting outcome of our VIF values: \n",
    "> Each of all three VIF values are pretty close to 1, which indicates moderate correlation between any of the three explanatory variables in the model, but not highly correlate Therefore, multicollinearity will not a problem in this model."
   ]
  },
  {
   "cell_type": "markdown",
   "metadata": {},
   "source": [
    "# Q1: b) Check the assumptions of linear regression without excluding any features."
   ]
  },
  {
   "cell_type": "code",
   "execution_count": 546,
   "metadata": {},
   "outputs": [
    {
     "data": {
      "image/png": "[encoded data removed]",
      "text/plain": [
       "<Figure size 720x720 with 20 Axes>"
      ]
     },
     "metadata": {},
     "output_type": "display_data"
    }
   ],
   "source": [
    "# inspect linearity between response variable y and each expanatory variable x\n",
    "pair_plot = sns.pairplot(all_var)"
   ]
  },
  {
   "cell_type": "markdown",
   "metadata": {},
   "source": [
    "> #### Test Linearity Assumption Visually:\n",
    "> Firstly, we are to use the scatter plots to visually inspect the linearity. By looking at the first three plots on the bottom row of the pairplots. Each of them displays the scatter plot for relationship between the response variable - \"Purchased DLCs\" and the three explanatory variables - \"Active Days\", \"Extansion Packs\", and \"Install Distance\". Apperently there are not very strong visual linearity."
   ]
  },
  {
   "cell_type": "code",
   "execution_count": 547,
   "metadata": {},
   "outputs": [],
   "source": [
    "#ax = sns.pairplot(all_var, x_vars=[\"Extension_Packs\",\"Install_Distance\",\"Active_Days\"], y_vars=['Purchased_DLCs'], height=7, aspect=0.7)"
   ]
  },
  {
   "cell_type": "code",
   "execution_count": 548,
   "metadata": {},
   "outputs": [
    {
     "data": {
      "text/plain": [
       "Active_Days         0.395834\n",
       "Extension_Packs     0.263841\n",
       "Install_Distance   -0.145807\n",
       "Purchased_DLCs      1.000000\n",
       "Name: Purchased_DLCs, dtype: float64"
      ]
     },
     "execution_count": 548,
     "metadata": {},
     "output_type": "execute_result"
    }
   ],
   "source": [
    "# test linearity assupmtion\n",
    "all_var.corr()['Purchased_DLCs']"
   ]
  },
  {
   "cell_type": "markdown",
   "metadata": {},
   "source": [
    "> #### Test Linearity Assumption By Quantitative Values:\n",
    "> Next, we are to get the Pearson's correlation coefficient (r) to check the linearity using quantitative values. As the numerical value shows, \"Purchased DLCs\" has a slight higher correlation with \"Active Days\": roughly 0.4; The second higher correlation appears to be with \"Extension Packs\": roughly 0.26; and the least correlation is with \"Install Distance\": roughly -0.15, this negative relationship indicates that the longer a player had waited to purchase the game after the release date, the lower chances that they will purchase (or purchase as much) DLCs. "
   ]
  },
  {
   "cell_type": "code",
   "execution_count": 549,
   "metadata": {},
   "outputs": [
    {
     "data": {
      "text/html": [
       "<table class=\"simpletable\">\n",
       "<caption>OLS Regression Results</caption>\n",
       "<tr>\n",
       "  <th>Dep. Variable:</th>     <td>Purchased_DLCs</td>  <th>  R-squared:         </th>  <td>   0.169</td>  \n",
       "</tr>\n",
       "<tr>\n",
       "  <th>Model:</th>                   <td>OLS</td>       <th>  Adj. R-squared:    </th>  <td>   0.169</td>  \n",
       "</tr>\n",
       "<tr>\n",
       "  <th>Method:</th>             <td>Least Squares</td>  <th>  F-statistic:       </th>  <td>2.369e+04</td> \n",
       "</tr>\n",
       "<tr>\n",
       "  <th>Date:</th>             <td>Fri, 26 Mar 2021</td> <th>  Prob (F-statistic):</th>   <td>  0.00</td>   \n",
       "</tr>\n",
       "<tr>\n",
       "  <th>Time:</th>                 <td>16:10:33</td>     <th>  Log-Likelihood:    </th> <td>-4.4955e+05</td>\n",
       "</tr>\n",
       "<tr>\n",
       "  <th>No. Observations:</th>      <td>350056</td>      <th>  AIC:               </th>  <td>8.991e+05</td> \n",
       "</tr>\n",
       "<tr>\n",
       "  <th>Df Residuals:</th>          <td>350052</td>      <th>  BIC:               </th>  <td>8.992e+05</td> \n",
       "</tr>\n",
       "<tr>\n",
       "  <th>Df Model:</th>              <td>     3</td>      <th>                     </th>      <td> </td>     \n",
       "</tr>\n",
       "<tr>\n",
       "  <th>Covariance Type:</th>      <td>nonrobust</td>    <th>                     </th>      <td> </td>     \n",
       "</tr>\n",
       "</table>\n",
       "<table class=\"simpletable\">\n",
       "<tr>\n",
       "          <td></td>            <th>coef</th>     <th>std err</th>      <th>t</th>      <th>P>|t|</th>  <th>[0.025</th>    <th>0.975]</th>  \n",
       "</tr>\n",
       "<tr>\n",
       "  <th>Intercept</th>        <td>    0.2542</td> <td>    0.003</td> <td>   94.661</td> <td> 0.000</td> <td>    0.249</td> <td>    0.259</td>\n",
       "</tr>\n",
       "<tr>\n",
       "  <th>Active_Days</th>      <td>    0.0063</td> <td> 3.42e-05</td> <td>  185.534</td> <td> 0.000</td> <td>    0.006</td> <td>    0.006</td>\n",
       "</tr>\n",
       "<tr>\n",
       "  <th>Extension_Packs</th>  <td>    0.1814</td> <td>    0.003</td> <td>   70.901</td> <td> 0.000</td> <td>    0.176</td> <td>    0.186</td>\n",
       "</tr>\n",
       "<tr>\n",
       "  <th>Install_Distance</th> <td>   -0.0002</td> <td> 4.29e-06</td> <td>  -35.153</td> <td> 0.000</td> <td>   -0.000</td> <td>   -0.000</td>\n",
       "</tr>\n",
       "</table>\n",
       "<table class=\"simpletable\">\n",
       "<tr>\n",
       "  <th>Omnibus:</th>       <td>176079.226</td> <th>  Durbin-Watson:     </th>  <td>   1.939</td>  \n",
       "</tr>\n",
       "<tr>\n",
       "  <th>Prob(Omnibus):</th>   <td> 0.000</td>   <th>  Jarque-Bera (JB):  </th> <td>1415833.821</td>\n",
       "</tr>\n",
       "<tr>\n",
       "  <th>Skew:</th>            <td> 2.295</td>   <th>  Prob(JB):          </th>  <td>    0.00</td>  \n",
       "</tr>\n",
       "<tr>\n",
       "  <th>Kurtosis:</th>        <td>11.718</td>   <th>  Cond. No.          </th>  <td>1.09e+03</td>  \n",
       "</tr>\n",
       "</table><br/><br/>Notes:<br/>[1] Standard Errors assume that the covariance matrix of the errors is correctly specified.<br/>[2] The condition number is large, 1.09e+03. This might indicate that there are<br/>strong multicollinearity or other numerical problems."
      ],
      "text/plain": [
       "<class 'statsmodels.iolib.summary.Summary'>\n",
       "\"\"\"\n",
       "                            OLS Regression Results                            \n",
       "==============================================================================\n",
       "Dep. Variable:         Purchased_DLCs   R-squared:                       0.169\n",
       "Model:                            OLS   Adj. R-squared:                  0.169\n",
       "Method:                 Least Squares   F-statistic:                 2.369e+04\n",
       "Date:                Fri, 26 Mar 2021   Prob (F-statistic):               0.00\n",
       "Time:                        16:10:33   Log-Likelihood:            -4.4955e+05\n",
       "No. Observations:              350056   AIC:                         8.991e+05\n",
       "Df Residuals:                  350052   BIC:                         8.992e+05\n",
       "Df Model:                           3                                         \n",
       "Covariance Type:            nonrobust                                         \n",
       "====================================================================================\n",
       "                       coef    std err          t      P>|t|      [0.025      0.975]\n",
       "------------------------------------------------------------------------------------\n",
       "Intercept            0.2542      0.003     94.661      0.000       0.249       0.259\n",
       "Active_Days          0.0063   3.42e-05    185.534      0.000       0.006       0.006\n",
       "Extension_Packs      0.1814      0.003     70.901      0.000       0.176       0.186\n",
       "Install_Distance    -0.0002   4.29e-06    -35.153      0.000      -0.000      -0.000\n",
       "==============================================================================\n",
       "Omnibus:                   176079.226   Durbin-Watson:                   1.939\n",
       "Prob(Omnibus):                  0.000   Jarque-Bera (JB):          1415833.821\n",
       "Skew:                           2.295   Prob(JB):                         0.00\n",
       "Kurtosis:                      11.718   Cond. No.                     1.09e+03\n",
       "==============================================================================\n",
       "\n",
       "Notes:\n",
       "[1] Standard Errors assume that the covariance matrix of the errors is correctly specified.\n",
       "[2] The condition number is large, 1.09e+03. This might indicate that there are\n",
       "strong multicollinearity or other numerical problems.\n",
       "\"\"\""
      ]
     },
     "execution_count": 549,
     "metadata": {},
     "output_type": "execute_result"
    }
   ],
   "source": [
    "# define expression of the model\n",
    "model_expression = 'Purchased_DLCs ~ Active_Days + Extension_Packs + Install_Distance'\n",
    "\n",
    "# develop X and y matrices\n",
    "y, X = dmatrices(model_expression, all_var, return_type='dataframe')\n",
    "\n",
    "# split subset of data sets for training and testing purposes\n",
    "# 70% data are for training and 30% are for testing\n",
    "train_df = np.random.rand(len(X)) < 0.7\n",
    "X_train = X[train_df]\n",
    "y_train = y[train_df]\n",
    "X_test = X[train_df]\n",
    "y_test = y[train_df]\n",
    "\n",
    "# build and train an OLS Regression Model on the training data set\n",
    "civ6_model = sm.OLS(y_train,X_train).fit()\n",
    "civ6_model.summary()"
   ]
  },
  {
   "cell_type": "code",
   "execution_count": 550,
   "metadata": {},
   "outputs": [
    {
     "data": {
      "text/html": [
       "<div>\n",
       "<style scoped>\n",
       "    .dataframe tbody tr th:only-of-type {\n",
       "        vertical-align: middle;\n",
       "    }\n",
       "\n",
       "    .dataframe tbody tr th {\n",
       "        vertical-align: top;\n",
       "    }\n",
       "\n",
       "    .dataframe thead th {\n",
       "        text-align: right;\n",
       "    }\n",
       "</style>\n",
       "<table border=\"1\" class=\"dataframe\">\n",
       "  <thead>\n",
       "    <tr style=\"text-align: right;\">\n",
       "      <th></th>\n",
       "      <th>mean</th>\n",
       "      <th>mean_se</th>\n",
       "      <th>mean_ci_lower</th>\n",
       "      <th>mean_ci_upper</th>\n",
       "      <th>obs_ci_lower</th>\n",
       "      <th>obs_ci_upper</th>\n",
       "    </tr>\n",
       "  </thead>\n",
       "  <tbody>\n",
       "    <tr>\n",
       "      <th>0</th>\n",
       "      <td>0.193966</td>\n",
       "      <td>0.001736</td>\n",
       "      <td>0.190563</td>\n",
       "      <td>0.197368</td>\n",
       "      <td>-1.518992</td>\n",
       "      <td>1.906923</td>\n",
       "    </tr>\n",
       "    <tr>\n",
       "      <th>1</th>\n",
       "      <td>0.206643</td>\n",
       "      <td>0.001722</td>\n",
       "      <td>0.203267</td>\n",
       "      <td>0.210018</td>\n",
       "      <td>-1.506315</td>\n",
       "      <td>1.919600</td>\n",
       "    </tr>\n",
       "    <tr>\n",
       "      <th>2</th>\n",
       "      <td>0.916565</td>\n",
       "      <td>0.003901</td>\n",
       "      <td>0.908919</td>\n",
       "      <td>0.924211</td>\n",
       "      <td>-0.796406</td>\n",
       "      <td>2.629536</td>\n",
       "    </tr>\n",
       "    <tr>\n",
       "      <th>7</th>\n",
       "      <td>0.397438</td>\n",
       "      <td>0.002444</td>\n",
       "      <td>0.392647</td>\n",
       "      <td>0.402229</td>\n",
       "      <td>-1.315523</td>\n",
       "      <td>2.110398</td>\n",
       "    </tr>\n",
       "    <tr>\n",
       "      <th>8</th>\n",
       "      <td>0.186419</td>\n",
       "      <td>0.001731</td>\n",
       "      <td>0.183026</td>\n",
       "      <td>0.189812</td>\n",
       "      <td>-1.526538</td>\n",
       "      <td>1.899377</td>\n",
       "    </tr>\n",
       "    <tr>\n",
       "      <th>...</th>\n",
       "      <td>...</td>\n",
       "      <td>...</td>\n",
       "      <td>...</td>\n",
       "      <td>...</td>\n",
       "      <td>...</td>\n",
       "      <td>...</td>\n",
       "    </tr>\n",
       "    <tr>\n",
       "      <th>499993</th>\n",
       "      <td>0.132087</td>\n",
       "      <td>0.002366</td>\n",
       "      <td>0.127449</td>\n",
       "      <td>0.136724</td>\n",
       "      <td>-1.580874</td>\n",
       "      <td>1.845047</td>\n",
       "    </tr>\n",
       "    <tr>\n",
       "      <th>499995</th>\n",
       "      <td>0.265501</td>\n",
       "      <td>0.001718</td>\n",
       "      <td>0.262134</td>\n",
       "      <td>0.268868</td>\n",
       "      <td>-1.447456</td>\n",
       "      <td>1.978459</td>\n",
       "    </tr>\n",
       "    <tr>\n",
       "      <th>499996</th>\n",
       "      <td>0.209661</td>\n",
       "      <td>0.001770</td>\n",
       "      <td>0.206193</td>\n",
       "      <td>0.213130</td>\n",
       "      <td>-1.503296</td>\n",
       "      <td>1.922619</td>\n",
       "    </tr>\n",
       "    <tr>\n",
       "      <th>499997</th>\n",
       "      <td>0.222339</td>\n",
       "      <td>0.001755</td>\n",
       "      <td>0.218899</td>\n",
       "      <td>0.225779</td>\n",
       "      <td>-1.490619</td>\n",
       "      <td>1.935296</td>\n",
       "    </tr>\n",
       "    <tr>\n",
       "      <th>499999</th>\n",
       "      <td>0.488559</td>\n",
       "      <td>0.002036</td>\n",
       "      <td>0.484568</td>\n",
       "      <td>0.492551</td>\n",
       "      <td>-1.224399</td>\n",
       "      <td>2.201518</td>\n",
       "    </tr>\n",
       "  </tbody>\n",
       "</table>\n",
       "<p>350056 rows × 6 columns</p>\n",
       "</div>"
      ],
      "text/plain": [
       "            mean   mean_se  mean_ci_lower  mean_ci_upper  obs_ci_lower  \\\n",
       "0       0.193966  0.001736       0.190563       0.197368     -1.518992   \n",
       "1       0.206643  0.001722       0.203267       0.210018     -1.506315   \n",
       "2       0.916565  0.003901       0.908919       0.924211     -0.796406   \n",
       "7       0.397438  0.002444       0.392647       0.402229     -1.315523   \n",
       "8       0.186419  0.001731       0.183026       0.189812     -1.526538   \n",
       "...          ...       ...            ...            ...           ...   \n",
       "499993  0.132087  0.002366       0.127449       0.136724     -1.580874   \n",
       "499995  0.265501  0.001718       0.262134       0.268868     -1.447456   \n",
       "499996  0.209661  0.001770       0.206193       0.213130     -1.503296   \n",
       "499997  0.222339  0.001755       0.218899       0.225779     -1.490619   \n",
       "499999  0.488559  0.002036       0.484568       0.492551     -1.224399   \n",
       "\n",
       "        obs_ci_upper  \n",
       "0           1.906923  \n",
       "1           1.919600  \n",
       "2           2.629536  \n",
       "7           2.110398  \n",
       "8           1.899377  \n",
       "...              ...  \n",
       "499993      1.845047  \n",
       "499995      1.978459  \n",
       "499996      1.922619  \n",
       "499997      1.935296  \n",
       "499999      2.201518  \n",
       "\n",
       "[350056 rows x 6 columns]"
      ]
     },
     "execution_count": 550,
     "metadata": {},
     "output_type": "execute_result"
    }
   ],
   "source": [
    "# get prediction results\n",
    "civ6_prediction = civ6_model.get_prediction(X_test)\n",
    "civ6_prediction_summary = civ6_prediction.summary_frame()\n",
    "civ6_prediction_summary"
   ]
  },
  {
   "cell_type": "code",
   "execution_count": 551,
   "metadata": {},
   "outputs": [
    {
     "data": {
      "text/plain": [
       "0        -0.193966\n",
       "1        -0.206643\n",
       "2        -0.916565\n",
       "7        -0.397438\n",
       "8        -0.186419\n",
       "            ...   \n",
       "499993   -0.132087\n",
       "499995   -0.265501\n",
       "499996   -0.209661\n",
       "499997   -0.222339\n",
       "499999   -0.488559\n",
       "Length: 350056, dtype: float64"
      ]
     },
     "execution_count": 551,
     "metadata": {},
     "output_type": "execute_result"
    }
   ],
   "source": [
    "# define y predictions and calculate residuals\n",
    "y_pred = civ6_prediction_summary['mean']\n",
    "residual = y_test['Purchased_DLCs'] - y_pred\n",
    "residual"
   ]
  },
  {
   "cell_type": "code",
   "execution_count": 552,
   "metadata": {},
   "outputs": [
    {
     "data": {
      "text/plain": [
       "6.035152013144072e-16"
      ]
     },
     "execution_count": 552,
     "metadata": {},
     "output_type": "execute_result"
    }
   ],
   "source": [
    "# Check for mean of residuals\n",
    "residual.mean()"
   ]
  },
  {
   "cell_type": "markdown",
   "metadata": {},
   "source": [
    "> The mean of residuals is pretty small, close to zero, this partially verifies the linearity regression assumption of the model for the residuals being zero. "
   ]
  },
  {
   "cell_type": "code",
   "execution_count": 553,
   "metadata": {},
   "outputs": [
    {
     "data": {
      "image/png": "[encoded data removed]",
      "text/plain": [
       "<Figure size 1440x720 with 1 Axes>"
      ]
     },
     "metadata": {},
     "output_type": "display_data"
    }
   ],
   "source": [
    "# plot residual errors of regression\n",
    "plt.xlabel('Predicted Purchased DLCs', fontsize=20)\n",
    "plt.ylabel('Residual Error of Regression', fontsize=20)\n",
    "plt.scatter(y_test['Purchased_DLCs'], residual)\n",
    "plt.show()"
   ]
  },
  {
   "cell_type": "markdown",
   "metadata": {},
   "source": [
    "> The residuals seem to show a linear pattern throughout the entire scale of the purchased DLCs, instead of having identical distributions. This indicates that the predictions of the model is not quite reliable, espcially at pretty extreme values."
   ]
  },
  {
   "cell_type": "code",
   "execution_count": 554,
   "metadata": {},
   "outputs": [
    {
     "data": {
      "text/plain": [
       "[('Skewness', 1415833.8207819671),\n",
       " ('Kurtosis', 0.0),\n",
       " ('Chi-square p-value', 2.294542552827222)]"
      ]
     },
     "execution_count": 554,
     "metadata": {},
     "output_type": "execute_result"
    }
   ],
   "source": [
    "# Test for nomality of residual errors by measuring skewness and kurtosis\n",
    "# desirable skewness is 0 and desirable kurtosis is 3, which represents perfectly normal distribution \n",
    "jb_test_parameters = ['Skewness', 'Kurtosis', 'Chi-square p-value']\n",
    "jb_test_values = sms.jarque_bera(residual)\n",
    "lzip(jb_test_parameters, jb_test_values)"
   ]
  },
  {
   "cell_type": "code",
   "execution_count": 555,
   "metadata": {},
   "outputs": [
    {
     "data": {
      "image/png": "[encoded data removed]",
      "text/plain": [
       "<Figure size 1440x720 with 1 Axes>"
      ]
     },
     "metadata": {},
     "output_type": "display_data"
    }
   ],
   "source": [
    "# test normality of residual errors visually - plot method 1\n",
    "resid_plot = residual.hist(bins=50)\n",
    "resid_plot = plt.title('Frequency Distribution of Residual Errors',size=24)\n",
    "plt.show()"
   ]
  },
  {
   "cell_type": "code",
   "execution_count": 556,
   "metadata": {},
   "outputs": [
    {
     "data": {
      "image/png": "[encoded data removed]",
      "text/plain": [
       "<Figure size 360x360 with 1 Axes>"
      ]
     },
     "metadata": {},
     "output_type": "display_data"
    }
   ],
   "source": [
    "# test normality of residual errors visually - plot method 2\n",
    "resid_plot_2 = sns.displot(residual,kde=True)\n",
    "resid_plot_2 = plt.title('Normality of Residual Errors')"
   ]
  },
  {
   "cell_type": "code",
   "execution_count": 557,
   "metadata": {},
   "outputs": [
    {
     "data": {
      "text/plain": [
       "[('F-stat', 52629.026879171724), ('F-test p-value', 0.0)]"
      ]
     },
     "execution_count": 557,
     "metadata": {},
     "output_type": "execute_result"
    }
   ],
   "source": [
    "# test homoscedasticity of residual errors\n",
    "w_test_parameters = ['F-stat', 'F-test p-value']\n",
    "w_test_values = het_white(residual, X_test)\n",
    "lzip(w_test_parameters, w_test_values)"
   ]
  },
  {
   "cell_type": "markdown",
   "metadata": {},
   "source": [
    "> Since the F-test for regresssion has returned a value less than 0.05. Thus, with at least 95% confidence we can reject the null hypothesis of the F-test that the residual errors are homoscedastic. This means that the residual errors are not homoscedastic."
   ]
  },
  {
   "cell_type": "markdown",
   "metadata": {},
   "source": [
    "\n",
    "# Q1: c) Run the regression model and explain if you rejected the hypothesis above or not? If rejected why?"
   ]
  },
  {
   "cell_type": "code",
   "execution_count": 558,
   "metadata": {},
   "outputs": [
    {
     "data": {
      "text/html": [
       "<table class=\"simpletable\">\n",
       "<caption>OLS Regression Results</caption>\n",
       "<tr>\n",
       "  <th>Dep. Variable:</th>     <td>Purchased_DLCs</td>  <th>  R-squared:         </th>  <td>   0.170</td>  \n",
       "</tr>\n",
       "<tr>\n",
       "  <th>Model:</th>                   <td>OLS</td>       <th>  Adj. R-squared:    </th>  <td>   0.170</td>  \n",
       "</tr>\n",
       "<tr>\n",
       "  <th>Method:</th>             <td>Least Squares</td>  <th>  F-statistic:       </th>  <td>3.425e+04</td> \n",
       "</tr>\n",
       "<tr>\n",
       "  <th>Date:</th>             <td>Fri, 26 Mar 2021</td> <th>  Prob (F-statistic):</th>   <td>  0.00</td>   \n",
       "</tr>\n",
       "<tr>\n",
       "  <th>Time:</th>                 <td>16:10:51</td>     <th>  Log-Likelihood:    </th> <td>-6.4283e+05</td>\n",
       "</tr>\n",
       "<tr>\n",
       "  <th>No. Observations:</th>      <td>500000</td>      <th>  AIC:               </th>  <td>1.286e+06</td> \n",
       "</tr>\n",
       "<tr>\n",
       "  <th>Df Residuals:</th>          <td>499996</td>      <th>  BIC:               </th>  <td>1.286e+06</td> \n",
       "</tr>\n",
       "<tr>\n",
       "  <th>Df Model:</th>              <td>     3</td>      <th>                     </th>      <td> </td>     \n",
       "</tr>\n",
       "<tr>\n",
       "  <th>Covariance Type:</th>      <td>nonrobust</td>    <th>                     </th>      <td> </td>     \n",
       "</tr>\n",
       "</table>\n",
       "<table class=\"simpletable\">\n",
       "<tr>\n",
       "          <td></td>            <th>coef</th>     <th>std err</th>      <th>t</th>      <th>P>|t|</th>  <th>[0.025</th>    <th>0.975]</th>  \n",
       "</tr>\n",
       "<tr>\n",
       "  <th>Intercept</th>        <td>    0.2534</td> <td>    0.002</td> <td>  112.644</td> <td> 0.000</td> <td>    0.249</td> <td>    0.258</td>\n",
       "</tr>\n",
       "<tr>\n",
       "  <th>Active_Days</th>      <td>    0.0064</td> <td> 2.87e-05</td> <td>  224.111</td> <td> 0.000</td> <td>    0.006</td> <td>    0.006</td>\n",
       "</tr>\n",
       "<tr>\n",
       "  <th>Extension_Packs</th>  <td>    0.1790</td> <td>    0.002</td> <td>   83.494</td> <td> 0.000</td> <td>    0.175</td> <td>    0.183</td>\n",
       "</tr>\n",
       "<tr>\n",
       "  <th>Install_Distance</th> <td>   -0.0002</td> <td>  3.6e-06</td> <td>  -41.867</td> <td> 0.000</td> <td>   -0.000</td> <td>   -0.000</td>\n",
       "</tr>\n",
       "</table>\n",
       "<table class=\"simpletable\">\n",
       "<tr>\n",
       "  <th>Omnibus:</th>       <td>251608.312</td> <th>  Durbin-Watson:     </th>  <td>   1.942</td>  \n",
       "</tr>\n",
       "<tr>\n",
       "  <th>Prob(Omnibus):</th>   <td> 0.000</td>   <th>  Jarque-Bera (JB):  </th> <td>2023359.333</td>\n",
       "</tr>\n",
       "<tr>\n",
       "  <th>Skew:</th>            <td> 2.296</td>   <th>  Prob(JB):          </th>  <td>    0.00</td>  \n",
       "</tr>\n",
       "<tr>\n",
       "  <th>Kurtosis:</th>        <td>11.720</td>   <th>  Cond. No.          </th>  <td>1.09e+03</td>  \n",
       "</tr>\n",
       "</table><br/><br/>Notes:<br/>[1] Standard Errors assume that the covariance matrix of the errors is correctly specified.<br/>[2] The condition number is large, 1.09e+03. This might indicate that there are<br/>strong multicollinearity or other numerical problems."
      ],
      "text/plain": [
       "<class 'statsmodels.iolib.summary.Summary'>\n",
       "\"\"\"\n",
       "                            OLS Regression Results                            \n",
       "==============================================================================\n",
       "Dep. Variable:         Purchased_DLCs   R-squared:                       0.170\n",
       "Model:                            OLS   Adj. R-squared:                  0.170\n",
       "Method:                 Least Squares   F-statistic:                 3.425e+04\n",
       "Date:                Fri, 26 Mar 2021   Prob (F-statistic):               0.00\n",
       "Time:                        16:10:51   Log-Likelihood:            -6.4283e+05\n",
       "No. Observations:              500000   AIC:                         1.286e+06\n",
       "Df Residuals:                  499996   BIC:                         1.286e+06\n",
       "Df Model:                           3                                         \n",
       "Covariance Type:            nonrobust                                         \n",
       "====================================================================================\n",
       "                       coef    std err          t      P>|t|      [0.025      0.975]\n",
       "------------------------------------------------------------------------------------\n",
       "Intercept            0.2534      0.002    112.644      0.000       0.249       0.258\n",
       "Active_Days          0.0064   2.87e-05    224.111      0.000       0.006       0.006\n",
       "Extension_Packs      0.1790      0.002     83.494      0.000       0.175       0.183\n",
       "Install_Distance    -0.0002    3.6e-06    -41.867      0.000      -0.000      -0.000\n",
       "==============================================================================\n",
       "Omnibus:                   251608.312   Durbin-Watson:                   1.942\n",
       "Prob(Omnibus):                  0.000   Jarque-Bera (JB):          2023359.333\n",
       "Skew:                           2.296   Prob(JB):                         0.00\n",
       "Kurtosis:                      11.720   Cond. No.                     1.09e+03\n",
       "==============================================================================\n",
       "\n",
       "Notes:\n",
       "[1] Standard Errors assume that the covariance matrix of the errors is correctly specified.\n",
       "[2] The condition number is large, 1.09e+03. This might indicate that there are\n",
       "strong multicollinearity or other numerical problems.\n",
       "\"\"\""
      ]
     },
     "execution_count": 558,
     "metadata": {},
     "output_type": "execute_result"
    }
   ],
   "source": [
    "# Method 1: using Statsmodel\n",
    "X_cons = sm.add_constant(X)\n",
    "civ6_multi_reg = sm.OLS(Y,X_cons).fit()\n",
    "civ6_multi_reg.summary()"
   ]
  },
  {
   "cell_type": "markdown",
   "metadata": {},
   "source": [
    "> As notes #2 states, the condition number is rather large, but since ther is no strong multicollinearity issue as we have confirmed in last section, then it means there might be other numerical problems. "
   ]
  },
  {
   "cell_type": "markdown",
   "metadata": {},
   "source": [
    "> #### Multiple Regression Model Analysis:\n",
    "> By analyzing the results of the auxiliary test models in the last section, we could get some general idea of how well the model fits. First of all, the response variable does not show significant linearity with either of the three explanatory variables. Secondly, although the mean of residuals is vey close to 0, but when checking the normality, and homoscedasticity of the resuiduals, it shows a strong sign that the residuals are not normally and identically distributed.\n",
    "> Next, looking at results of this section, according to the outcome of the multiple regression model, there is definitely a relationship between these variables, but since the R value is rather small (~ 0.17), meaning that this model isn't a very good represention. In other words, althgouh the variables x1, x2, & x3 (which are \"Active Days\", \"Extension Packs\", and \"Install Distance\" - How long after the release date have the player installed game) does make an impact on the number of DLCs a player purchased, they are not super good measurements or key affactors.\n",
    "> Therefore, although I would probably not fully reject the hypothesis above, I would definitely think this model needs some improvements and tweaks."
   ]
  },
  {
   "cell_type": "markdown",
   "metadata": {},
   "source": [
    "# Q1: d) Share the output of multiple regression model. Write the multiple regression equation based on model output."
   ]
  },
  {
   "cell_type": "code",
   "execution_count": 559,
   "metadata": {
    "scrolled": false
   },
   "outputs": [
    {
     "name": "stdout",
     "output_type": "stream",
     "text": [
      "        Active_Days  Extension_Packs  Install_Distance\n",
      "0                 1                0               441\n",
      "1                 3                0               441\n",
      "2               115                0               441\n",
      "3               112                0               499\n",
      "4                 1                0               507\n",
      "...             ...              ...               ...\n",
      "499995           11                0               387\n",
      "499996            2                0               379\n",
      "499997            4                0               379\n",
      "499998            6                0               440\n",
      "499999           46                0               379\n",
      "\n",
      "[500000 rows x 3 columns]\n",
      "        Purchased_DLCs\n",
      "0                    0\n",
      "1                    0\n",
      "2                    0\n",
      "3                    0\n",
      "4                    1\n",
      "...                ...\n",
      "499995               0\n",
      "499996               0\n",
      "499997               0\n",
      "499998               0\n",
      "499999               0\n",
      "\n",
      "[500000 rows x 1 columns]\n",
      "R^2 value is 0.17046036837590095\n",
      "Coefficients are [[ 6.43127008e-03  1.79048593e-01 -1.50584305e-04]]\n",
      "Intercept is  [0.25336333]\n"
     ]
    }
   ],
   "source": [
    "# Method 2: using Sci-Kit Learn (sklearn)\n",
    "X = pd.concat([x1,x2,x3], axis =1)\n",
    "print(X)\n",
    "print(Y)\n",
    "civ6_reg_model = linear_model.LinearRegression()\n",
    "civ6_reg_model.fit(X, Y)\n",
    "\n",
    "print('R^2 value is', civ6_reg_model.score(X, Y))\n",
    "print('Coefficients are', civ6_reg_model.coef_)\n",
    "print('Intercept is ', civ6_reg_model.intercept_)"
   ]
  },
  {
   "cell_type": "code",
   "execution_count": 588,
   "metadata": {},
   "outputs": [
    {
     "name": "stdout",
     "output_type": "stream",
     "text": [
      "Multiple Regression Equation of CIV6 Players is:\n",
      " Y = 0.2534 + 0.0064*x1 + 0.179*x2 + 0.00015*x3\n"
     ]
    }
   ],
   "source": [
    "print(\"Multiple Regression Equation of CIV6 Players is:\\n\", \"Y = 0.2534 + 0.0064*x1 + 0.179*x2 + 0.00015*x3\") "
   ]
  },
  {
   "cell_type": "markdown",
   "metadata": {},
   "source": [
    "# Q2. Detect the outliers in active days column by using Jacknife Distances method. Show your analysis as box plot."
   ]
  },
  {
   "cell_type": "code",
   "execution_count": 561,
   "metadata": {},
   "outputs": [
    {
     "data": {
      "image/png": "[encoded data removed]",
      "text/plain": [
       "<Figure size 1440x720 with 1 Axes>"
      ]
     },
     "metadata": {},
     "output_type": "display_data"
    }
   ],
   "source": [
    "active_days_plot = sns.boxplot(all_var['Active_Days'])\n",
    "active_days_plot = plt.title(\"Boxplot of Untreated Active Days Data\",size=24)\n",
    "plt.show()\n",
    "warnings.filterwarnings(\"ignore\")"
   ]
  },
  {
   "cell_type": "code",
   "execution_count": 562,
   "metadata": {},
   "outputs": [
    {
     "data": {
      "image/png": "[encoded data removed]",
      "text/plain": [
       "<Figure size 1440x720 with 1 Axes>"
      ]
     },
     "metadata": {},
     "output_type": "display_data"
    }
   ],
   "source": [
    "Active_Days_plot = all_var['Active_Days'].hist(bins=100)\n",
    "Active_Days_plot = plt.title('Frequency Distribution of Untreated Active Days Data',size=24)\n",
    "plt.show()"
   ]
  },
  {
   "cell_type": "code",
   "execution_count": 563,
   "metadata": {},
   "outputs": [
    {
     "data": {
      "text/html": [
       "<div>\n",
       "<style scoped>\n",
       "    .dataframe tbody tr th:only-of-type {\n",
       "        vertical-align: middle;\n",
       "    }\n",
       "\n",
       "    .dataframe tbody tr th {\n",
       "        vertical-align: top;\n",
       "    }\n",
       "\n",
       "    .dataframe thead th {\n",
       "        text-align: right;\n",
       "    }\n",
       "</style>\n",
       "<table border=\"1\" class=\"dataframe\">\n",
       "  <thead>\n",
       "    <tr style=\"text-align: right;\">\n",
       "      <th></th>\n",
       "      <th>0</th>\n",
       "    </tr>\n",
       "  </thead>\n",
       "  <tbody>\n",
       "    <tr>\n",
       "      <th>0</th>\n",
       "      <td>2</td>\n",
       "    </tr>\n",
       "    <tr>\n",
       "      <th>1</th>\n",
       "      <td>3</td>\n",
       "    </tr>\n",
       "    <tr>\n",
       "      <th>2</th>\n",
       "      <td>22</td>\n",
       "    </tr>\n",
       "    <tr>\n",
       "      <th>3</th>\n",
       "      <td>75</td>\n",
       "    </tr>\n",
       "    <tr>\n",
       "      <th>4</th>\n",
       "      <td>119</td>\n",
       "    </tr>\n",
       "    <tr>\n",
       "      <th>...</th>\n",
       "      <td>...</td>\n",
       "    </tr>\n",
       "    <tr>\n",
       "      <th>57132</th>\n",
       "      <td>499946</td>\n",
       "    </tr>\n",
       "    <tr>\n",
       "      <th>57133</th>\n",
       "      <td>499958</td>\n",
       "    </tr>\n",
       "    <tr>\n",
       "      <th>57134</th>\n",
       "      <td>499968</td>\n",
       "    </tr>\n",
       "    <tr>\n",
       "      <th>57135</th>\n",
       "      <td>499972</td>\n",
       "    </tr>\n",
       "    <tr>\n",
       "      <th>57136</th>\n",
       "      <td>499988</td>\n",
       "    </tr>\n",
       "  </tbody>\n",
       "</table>\n",
       "<p>57137 rows × 1 columns</p>\n",
       "</div>"
      ],
      "text/plain": [
       "            0\n",
       "0           2\n",
       "1           3\n",
       "2          22\n",
       "3          75\n",
       "4         119\n",
       "...       ...\n",
       "57132  499946\n",
       "57133  499958\n",
       "57134  499968\n",
       "57135  499972\n",
       "57136  499988\n",
       "\n",
       "[57137 rows x 1 columns]"
      ]
     },
     "execution_count": 563,
     "metadata": {},
     "output_type": "execute_result"
    }
   ],
   "source": [
    "# Define Jackknife Distance method:\n",
    "def detect_outliers_JDM(df):\n",
    "    Q1, Q3 = np.percentile(df,[25,75])\n",
    "    IQR = Q3 - Q1\n",
    "    lower_bound = Q1 - (IQR*1.5)\n",
    "    upper_bound = Q3 + (IQR*1.5)\n",
    "    return np.where((df <= lower_bound) | (df >= upper_bound))\n",
    "\n",
    "# Detect outliers with Jackknife Distance:\n",
    "Active_Days_outliers = pd.DataFrame(detect_outliers_JDM(all_var['Active_Days'])).T\n",
    "Active_Days_outliers"
   ]
  },
  {
   "cell_type": "code",
   "execution_count": 564,
   "metadata": {},
   "outputs": [
    {
     "name": "stdout",
     "output_type": "stream",
     "text": [
      "-25.5 50.5\n"
     ]
    }
   ],
   "source": [
    "Q1, Q3 = np.percentile(all_var['Active_Days'],[25,75])\n",
    "IQR = Q3 - Q1\n",
    "lower_bound = Q1 - (IQR*1.5)\n",
    "upper_bound = Q3 + (IQR*1.5)\n",
    "\n",
    "print (lower_bound, upper_bound)"
   ]
  },
  {
   "cell_type": "code",
   "execution_count": 565,
   "metadata": {},
   "outputs": [
    {
     "data": {
      "text/plain": [
       "1.0"
      ]
     },
     "execution_count": 565,
     "metadata": {},
     "output_type": "execute_result"
    }
   ],
   "source": [
    "# since lower bound is a negetive number, so we will set a different lower bound\n",
    "lower_bound = all_var['Active_Days'].quantile(.01)\n",
    "lower_bound"
   ]
  },
  {
   "cell_type": "markdown",
   "metadata": {},
   "source": [
    "# Q3: Remove the outlier players you detected in Q2 and run the model with the remaining players."
   ]
  },
  {
   "cell_type": "code",
   "execution_count": 566,
   "metadata": {
    "scrolled": true
   },
   "outputs": [
    {
     "data": {
      "text/html": [
       "<div>\n",
       "<style scoped>\n",
       "    .dataframe tbody tr th:only-of-type {\n",
       "        vertical-align: middle;\n",
       "    }\n",
       "\n",
       "    .dataframe tbody tr th {\n",
       "        vertical-align: top;\n",
       "    }\n",
       "\n",
       "    .dataframe thead th {\n",
       "        text-align: right;\n",
       "    }\n",
       "</style>\n",
       "<table border=\"1\" class=\"dataframe\">\n",
       "  <thead>\n",
       "    <tr style=\"text-align: right;\">\n",
       "      <th></th>\n",
       "      <th>Active_Days</th>\n",
       "      <th>Extension_Packs</th>\n",
       "      <th>Install_Distance</th>\n",
       "      <th>Purchased_DLCs</th>\n",
       "    </tr>\n",
       "  </thead>\n",
       "  <tbody>\n",
       "    <tr>\n",
       "      <th>count</th>\n",
       "      <td>500000.000000</td>\n",
       "      <td>500000.000000</td>\n",
       "      <td>500000.000000</td>\n",
       "      <td>500000.000000</td>\n",
       "    </tr>\n",
       "    <tr>\n",
       "      <th>mean</th>\n",
       "      <td>23.590800</td>\n",
       "      <td>0.358446</td>\n",
       "      <td>442.459044</td>\n",
       "      <td>0.402634</td>\n",
       "    </tr>\n",
       "    <tr>\n",
       "      <th>std</th>\n",
       "      <td>49.390431</td>\n",
       "      <td>0.640206</td>\n",
       "      <td>356.510697</td>\n",
       "      <td>0.960957</td>\n",
       "    </tr>\n",
       "    <tr>\n",
       "      <th>min</th>\n",
       "      <td>1.000000</td>\n",
       "      <td>0.000000</td>\n",
       "      <td>-59.000000</td>\n",
       "      <td>0.000000</td>\n",
       "    </tr>\n",
       "    <tr>\n",
       "      <th>25%</th>\n",
       "      <td>3.000000</td>\n",
       "      <td>0.000000</td>\n",
       "      <td>63.000000</td>\n",
       "      <td>0.000000</td>\n",
       "    </tr>\n",
       "    <tr>\n",
       "      <th>50%</th>\n",
       "      <td>8.000000</td>\n",
       "      <td>0.000000</td>\n",
       "      <td>441.000000</td>\n",
       "      <td>0.000000</td>\n",
       "    </tr>\n",
       "    <tr>\n",
       "      <th>75%</th>\n",
       "      <td>22.000000</td>\n",
       "      <td>1.000000</td>\n",
       "      <td>792.000000</td>\n",
       "      <td>0.000000</td>\n",
       "    </tr>\n",
       "    <tr>\n",
       "      <th>max</th>\n",
       "      <td>1081.000000</td>\n",
       "      <td>2.000000</td>\n",
       "      <td>1082.000000</td>\n",
       "      <td>6.000000</td>\n",
       "    </tr>\n",
       "  </tbody>\n",
       "</table>\n",
       "</div>"
      ],
      "text/plain": [
       "         Active_Days  Extension_Packs  Install_Distance  Purchased_DLCs\n",
       "count  500000.000000    500000.000000     500000.000000   500000.000000\n",
       "mean       23.590800         0.358446        442.459044        0.402634\n",
       "std        49.390431         0.640206        356.510697        0.960957\n",
       "min         1.000000         0.000000        -59.000000        0.000000\n",
       "25%         3.000000         0.000000         63.000000        0.000000\n",
       "50%         8.000000         0.000000        441.000000        0.000000\n",
       "75%        22.000000         1.000000        792.000000        0.000000\n",
       "max      1081.000000         2.000000       1082.000000        6.000000"
      ]
     },
     "execution_count": 566,
     "metadata": {},
     "output_type": "execute_result"
    }
   ],
   "source": [
    "all_var.describe()"
   ]
  },
  {
   "cell_type": "code",
   "execution_count": 567,
   "metadata": {},
   "outputs": [
    {
     "data": {
      "text/html": [
       "<div>\n",
       "<style scoped>\n",
       "    .dataframe tbody tr th:only-of-type {\n",
       "        vertical-align: middle;\n",
       "    }\n",
       "\n",
       "    .dataframe tbody tr th {\n",
       "        vertical-align: top;\n",
       "    }\n",
       "\n",
       "    .dataframe thead th {\n",
       "        text-align: right;\n",
       "    }\n",
       "</style>\n",
       "<table border=\"1\" class=\"dataframe\">\n",
       "  <thead>\n",
       "    <tr style=\"text-align: right;\">\n",
       "      <th></th>\n",
       "      <th>Active_Days</th>\n",
       "      <th>Extension_Packs</th>\n",
       "      <th>Install_Distance</th>\n",
       "      <th>Purchased_DLCs</th>\n",
       "    </tr>\n",
       "  </thead>\n",
       "  <tbody>\n",
       "    <tr>\n",
       "      <th>count</th>\n",
       "      <td>386932.000000</td>\n",
       "      <td>386932.000000</td>\n",
       "      <td>386932.000000</td>\n",
       "      <td>386932.000000</td>\n",
       "    </tr>\n",
       "    <tr>\n",
       "      <th>mean</th>\n",
       "      <td>12.336312</td>\n",
       "      <td>0.276571</td>\n",
       "      <td>450.857572</td>\n",
       "      <td>0.300660</td>\n",
       "    </tr>\n",
       "    <tr>\n",
       "      <th>std</th>\n",
       "      <td>11.371571</td>\n",
       "      <td>0.546782</td>\n",
       "      <td>353.977273</td>\n",
       "      <td>0.744107</td>\n",
       "    </tr>\n",
       "    <tr>\n",
       "      <th>min</th>\n",
       "      <td>2.000000</td>\n",
       "      <td>0.000000</td>\n",
       "      <td>-59.000000</td>\n",
       "      <td>0.000000</td>\n",
       "    </tr>\n",
       "    <tr>\n",
       "      <th>25%</th>\n",
       "      <td>4.000000</td>\n",
       "      <td>0.000000</td>\n",
       "      <td>67.000000</td>\n",
       "      <td>0.000000</td>\n",
       "    </tr>\n",
       "    <tr>\n",
       "      <th>50%</th>\n",
       "      <td>8.000000</td>\n",
       "      <td>0.000000</td>\n",
       "      <td>444.000000</td>\n",
       "      <td>0.000000</td>\n",
       "    </tr>\n",
       "    <tr>\n",
       "      <th>75%</th>\n",
       "      <td>17.000000</td>\n",
       "      <td>0.000000</td>\n",
       "      <td>793.000000</td>\n",
       "      <td>0.000000</td>\n",
       "    </tr>\n",
       "    <tr>\n",
       "      <th>max</th>\n",
       "      <td>50.000000</td>\n",
       "      <td>2.000000</td>\n",
       "      <td>1082.000000</td>\n",
       "      <td>6.000000</td>\n",
       "    </tr>\n",
       "  </tbody>\n",
       "</table>\n",
       "</div>"
      ],
      "text/plain": [
       "         Active_Days  Extension_Packs  Install_Distance  Purchased_DLCs\n",
       "count  386932.000000    386932.000000     386932.000000   386932.000000\n",
       "mean       12.336312         0.276571        450.857572        0.300660\n",
       "std        11.371571         0.546782        353.977273        0.744107\n",
       "min         2.000000         0.000000        -59.000000        0.000000\n",
       "25%         4.000000         0.000000         67.000000        0.000000\n",
       "50%         8.000000         0.000000        444.000000        0.000000\n",
       "75%        17.000000         0.000000        793.000000        0.000000\n",
       "max        50.000000         2.000000       1082.000000        6.000000"
      ]
     },
     "execution_count": 567,
     "metadata": {},
     "output_type": "execute_result"
    }
   ],
   "source": [
    "# get outliers of the data frame\n",
    "all_var_outliers = all_var.loc[((all_var['Active_Days'] <= lower_bound) | \n",
    "                                         (all_var['Active_Days'] >= upper_bound))]\n",
    "\n",
    "# remove outliers from the data frame\n",
    "all_var_trimmed = all_var.loc[((all_var['Active_Days'] > lower_bound) & \n",
    "                                     (all_var['Active_Days'] < upper_bound))]\n",
    "all_var_trimmed.describe()"
   ]
  },
  {
   "cell_type": "code",
   "execution_count": 568,
   "metadata": {},
   "outputs": [
    {
     "data": {
      "image/png": "[encoded data removed]",
      "text/plain": [
       "<Figure size 1440x720 with 1 Axes>"
      ]
     },
     "metadata": {},
     "output_type": "display_data"
    }
   ],
   "source": [
    "Active_Days_trimmed_plot = all_var_trimmed['Active_Days'].hist(bins=100)\n",
    "Active_Days_trimmed_plot = plt.title('Frequency Distribution of Trimmed Active Days Data',size=24)\n",
    "plt.show()"
   ]
  },
  {
   "cell_type": "code",
   "execution_count": 569,
   "metadata": {},
   "outputs": [
    {
     "data": {
      "image/png": "[encoded data removed]",
      "text/plain": [
       "<Figure size 1440x720 with 1 Axes>"
      ]
     },
     "metadata": {},
     "output_type": "display_data"
    }
   ],
   "source": [
    "active_days_trimmed_plot = sns.boxplot(all_var_trimmed['Active_Days'])\n",
    "active_days_trimmed_plot = plt.title(\"Boxplot of TrimmedActive Days Data\",size=24)\n",
    "plt.show()\n",
    "warnings.filterwarnings(\"ignore\")"
   ]
  },
  {
   "cell_type": "markdown",
   "metadata": {},
   "source": [
    "> ### Run Model with Remaining Players (Trimmed Dataset)"
   ]
  },
  {
   "cell_type": "code",
   "execution_count": 570,
   "metadata": {},
   "outputs": [
    {
     "data": {
      "text/plain": [
       "Active_Days         0.251520\n",
       "Extension_Packs     0.073095\n",
       "Install_Distance   -0.046084\n",
       "Purchased_DLCs      1.000000\n",
       "Name: Purchased_DLCs, dtype: float64"
      ]
     },
     "execution_count": 570,
     "metadata": {},
     "output_type": "execute_result"
    }
   ],
   "source": [
    "# test linearity assupmtion\n",
    "all_var_trimmed.corr()['Purchased_DLCs']"
   ]
  },
  {
   "cell_type": "code",
   "execution_count": 571,
   "metadata": {},
   "outputs": [
    {
     "data": {
      "text/html": [
       "<table class=\"simpletable\">\n",
       "<caption>OLS Regression Results</caption>\n",
       "<tr>\n",
       "  <th>Dep. Variable:</th>     <td>Purchased_DLCs</td>  <th>  R-squared:         </th>  <td>   0.063</td>  \n",
       "</tr>\n",
       "<tr>\n",
       "  <th>Model:</th>                   <td>OLS</td>       <th>  Adj. R-squared:    </th>  <td>   0.063</td>  \n",
       "</tr>\n",
       "<tr>\n",
       "  <th>Method:</th>             <td>Least Squares</td>  <th>  F-statistic:       </th>  <td>   6022.</td>  \n",
       "</tr>\n",
       "<tr>\n",
       "  <th>Date:</th>             <td>Fri, 26 Mar 2021</td> <th>  Prob (F-statistic):</th>   <td>  0.00</td>   \n",
       "</tr>\n",
       "<tr>\n",
       "  <th>Time:</th>                 <td>16:21:12</td>     <th>  Log-Likelihood:    </th> <td>-2.9531e+05</td>\n",
       "</tr>\n",
       "<tr>\n",
       "  <th>No. Observations:</th>      <td>270830</td>      <th>  AIC:               </th>  <td>5.906e+05</td> \n",
       "</tr>\n",
       "<tr>\n",
       "  <th>Df Residuals:</th>          <td>270826</td>      <th>  BIC:               </th>  <td>5.907e+05</td> \n",
       "</tr>\n",
       "<tr>\n",
       "  <th>Df Model:</th>              <td>     3</td>      <th>                     </th>      <td> </td>     \n",
       "</tr>\n",
       "<tr>\n",
       "  <th>Covariance Type:</th>      <td>nonrobust</td>    <th>                     </th>      <td> </td>     \n",
       "</tr>\n",
       "</table>\n",
       "<table class=\"simpletable\">\n",
       "<tr>\n",
       "          <td></td>            <th>coef</th>     <th>std err</th>      <th>t</th>      <th>P>|t|</th>  <th>[0.025</th>    <th>0.975]</th>  \n",
       "</tr>\n",
       "<tr>\n",
       "  <th>Intercept</th>        <td>    0.0860</td> <td>    0.003</td> <td>   28.879</td> <td> 0.000</td> <td>    0.080</td> <td>    0.092</td>\n",
       "</tr>\n",
       "<tr>\n",
       "  <th>Active_Days</th>      <td>    0.0168</td> <td>    0.000</td> <td>  125.243</td> <td> 0.000</td> <td>    0.017</td> <td>    0.017</td>\n",
       "</tr>\n",
       "<tr>\n",
       "  <th>Extension_Packs</th>  <td>   -0.0179</td> <td>    0.003</td> <td>   -6.542</td> <td> 0.000</td> <td>   -0.023</td> <td>   -0.013</td>\n",
       "</tr>\n",
       "<tr>\n",
       "  <th>Install_Distance</th> <td> 2.691e-05</td> <td> 4.09e-06</td> <td>    6.574</td> <td> 0.000</td> <td> 1.89e-05</td> <td> 3.49e-05</td>\n",
       "</tr>\n",
       "</table>\n",
       "<table class=\"simpletable\">\n",
       "<tr>\n",
       "  <th>Omnibus:</th>       <td>169645.612</td> <th>  Durbin-Watson:     </th>  <td>   1.926</td>  \n",
       "</tr>\n",
       "<tr>\n",
       "  <th>Prob(Omnibus):</th>   <td> 0.000</td>   <th>  Jarque-Bera (JB):  </th> <td>1836756.927</td>\n",
       "</tr>\n",
       "<tr>\n",
       "  <th>Skew:</th>            <td> 2.935</td>   <th>  Prob(JB):          </th>  <td>    0.00</td>  \n",
       "</tr>\n",
       "<tr>\n",
       "  <th>Kurtosis:</th>        <td>14.328</td>   <th>  Cond. No.          </th>  <td>1.25e+03</td>  \n",
       "</tr>\n",
       "</table><br/><br/>Notes:<br/>[1] Standard Errors assume that the covariance matrix of the errors is correctly specified.<br/>[2] The condition number is large, 1.25e+03. This might indicate that there are<br/>strong multicollinearity or other numerical problems."
      ],
      "text/plain": [
       "<class 'statsmodels.iolib.summary.Summary'>\n",
       "\"\"\"\n",
       "                            OLS Regression Results                            \n",
       "==============================================================================\n",
       "Dep. Variable:         Purchased_DLCs   R-squared:                       0.063\n",
       "Model:                            OLS   Adj. R-squared:                  0.063\n",
       "Method:                 Least Squares   F-statistic:                     6022.\n",
       "Date:                Fri, 26 Mar 2021   Prob (F-statistic):               0.00\n",
       "Time:                        16:21:12   Log-Likelihood:            -2.9531e+05\n",
       "No. Observations:              270830   AIC:                         5.906e+05\n",
       "Df Residuals:                  270826   BIC:                         5.907e+05\n",
       "Df Model:                           3                                         \n",
       "Covariance Type:            nonrobust                                         \n",
       "====================================================================================\n",
       "                       coef    std err          t      P>|t|      [0.025      0.975]\n",
       "------------------------------------------------------------------------------------\n",
       "Intercept            0.0860      0.003     28.879      0.000       0.080       0.092\n",
       "Active_Days          0.0168      0.000    125.243      0.000       0.017       0.017\n",
       "Extension_Packs     -0.0179      0.003     -6.542      0.000      -0.023      -0.013\n",
       "Install_Distance  2.691e-05   4.09e-06      6.574      0.000    1.89e-05    3.49e-05\n",
       "==============================================================================\n",
       "Omnibus:                   169645.612   Durbin-Watson:                   1.926\n",
       "Prob(Omnibus):                  0.000   Jarque-Bera (JB):          1836756.927\n",
       "Skew:                           2.935   Prob(JB):                         0.00\n",
       "Kurtosis:                      14.328   Cond. No.                     1.25e+03\n",
       "==============================================================================\n",
       "\n",
       "Notes:\n",
       "[1] Standard Errors assume that the covariance matrix of the errors is correctly specified.\n",
       "[2] The condition number is large, 1.25e+03. This might indicate that there are\n",
       "strong multicollinearity or other numerical problems.\n",
       "\"\"\""
      ]
     },
     "execution_count": 571,
     "metadata": {},
     "output_type": "execute_result"
    }
   ],
   "source": [
    "# define expression of the model\n",
    "trimmed_model_expression = 'Purchased_DLCs ~ Active_Days + Extension_Packs + Install_Distance'\n",
    "\n",
    "# develop X and y matrices\n",
    "y2, X2 = dmatrices(trimmed_model_expression, all_var_trimmed, return_type='dataframe')\n",
    "\n",
    "# split subset of data sets for training and testing purposes\n",
    "# 70% data are for training and 30% are for testing\n",
    "train_df = np.random.rand(len(X2)) < 0.7\n",
    "X2_train = X2[train_df]\n",
    "y2_train = y2[train_df]\n",
    "X2_test = X2[train_df]\n",
    "y2_test = y2[train_df]\n",
    "\n",
    "# build and train an OLS Regression Model on the training data set\n",
    "civ6_trimmed_model = sm.OLS(y2_train,X2_train).fit()\n",
    "civ6_trimmed_model.summary()"
   ]
  },
  {
   "cell_type": "code",
   "execution_count": 573,
   "metadata": {},
   "outputs": [
    {
     "data": {
      "text/html": [
       "<div>\n",
       "<style scoped>\n",
       "    .dataframe tbody tr th:only-of-type {\n",
       "        vertical-align: middle;\n",
       "    }\n",
       "\n",
       "    .dataframe tbody tr th {\n",
       "        vertical-align: top;\n",
       "    }\n",
       "\n",
       "    .dataframe thead th {\n",
       "        text-align: right;\n",
       "    }\n",
       "</style>\n",
       "<table border=\"1\" class=\"dataframe\">\n",
       "  <thead>\n",
       "    <tr style=\"text-align: right;\">\n",
       "      <th></th>\n",
       "      <th>mean</th>\n",
       "      <th>mean_se</th>\n",
       "      <th>mean_ci_lower</th>\n",
       "      <th>mean_ci_upper</th>\n",
       "      <th>obs_ci_lower</th>\n",
       "      <th>obs_ci_upper</th>\n",
       "    </tr>\n",
       "  </thead>\n",
       "  <tbody>\n",
       "    <tr>\n",
       "      <th>1</th>\n",
       "      <td>0.148381</td>\n",
       "      <td>0.001839</td>\n",
       "      <td>0.144777</td>\n",
       "      <td>0.151986</td>\n",
       "      <td>-1.262735</td>\n",
       "      <td>1.559498</td>\n",
       "    </tr>\n",
       "    <tr>\n",
       "      <th>5</th>\n",
       "      <td>0.131559</td>\n",
       "      <td>0.001915</td>\n",
       "      <td>0.127806</td>\n",
       "      <td>0.135311</td>\n",
       "      <td>-1.279558</td>\n",
       "      <td>1.542675</td>\n",
       "    </tr>\n",
       "    <tr>\n",
       "      <th>6</th>\n",
       "      <td>0.215673</td>\n",
       "      <td>0.001615</td>\n",
       "      <td>0.212507</td>\n",
       "      <td>0.218838</td>\n",
       "      <td>-1.195442</td>\n",
       "      <td>1.626788</td>\n",
       "    </tr>\n",
       "    <tr>\n",
       "      <th>9</th>\n",
       "      <td>0.198850</td>\n",
       "      <td>0.001658</td>\n",
       "      <td>0.195601</td>\n",
       "      <td>0.202099</td>\n",
       "      <td>-1.212265</td>\n",
       "      <td>1.609965</td>\n",
       "    </tr>\n",
       "    <tr>\n",
       "      <th>12</th>\n",
       "      <td>0.266141</td>\n",
       "      <td>0.001551</td>\n",
       "      <td>0.263100</td>\n",
       "      <td>0.269182</td>\n",
       "      <td>-1.144974</td>\n",
       "      <td>1.677256</td>\n",
       "    </tr>\n",
       "    <tr>\n",
       "      <th>...</th>\n",
       "      <td>...</td>\n",
       "      <td>...</td>\n",
       "      <td>...</td>\n",
       "      <td>...</td>\n",
       "      <td>...</td>\n",
       "      <td>...</td>\n",
       "    </tr>\n",
       "    <tr>\n",
       "      <th>499994</th>\n",
       "      <td>0.429304</td>\n",
       "      <td>0.002870</td>\n",
       "      <td>0.423679</td>\n",
       "      <td>0.434929</td>\n",
       "      <td>-0.981819</td>\n",
       "      <td>1.840427</td>\n",
       "    </tr>\n",
       "    <tr>\n",
       "      <th>499995</th>\n",
       "      <td>0.281511</td>\n",
       "      <td>0.001560</td>\n",
       "      <td>0.278453</td>\n",
       "      <td>0.284569</td>\n",
       "      <td>-1.129604</td>\n",
       "      <td>1.692626</td>\n",
       "    </tr>\n",
       "    <tr>\n",
       "      <th>499997</th>\n",
       "      <td>0.163536</td>\n",
       "      <td>0.001817</td>\n",
       "      <td>0.159974</td>\n",
       "      <td>0.167098</td>\n",
       "      <td>-1.247580</td>\n",
       "      <td>1.574652</td>\n",
       "    </tr>\n",
       "    <tr>\n",
       "      <th>499998</th>\n",
       "      <td>0.198823</td>\n",
       "      <td>0.001658</td>\n",
       "      <td>0.195573</td>\n",
       "      <td>0.202073</td>\n",
       "      <td>-1.212292</td>\n",
       "      <td>1.609938</td>\n",
       "    </tr>\n",
       "    <tr>\n",
       "      <th>499999</th>\n",
       "      <td>0.870094</td>\n",
       "      <td>0.004969</td>\n",
       "      <td>0.860356</td>\n",
       "      <td>0.879832</td>\n",
       "      <td>-0.541051</td>\n",
       "      <td>2.281239</td>\n",
       "    </tr>\n",
       "  </tbody>\n",
       "</table>\n",
       "<p>270830 rows × 6 columns</p>\n",
       "</div>"
      ],
      "text/plain": [
       "            mean   mean_se  mean_ci_lower  mean_ci_upper  obs_ci_lower  \\\n",
       "1       0.148381  0.001839       0.144777       0.151986     -1.262735   \n",
       "5       0.131559  0.001915       0.127806       0.135311     -1.279558   \n",
       "6       0.215673  0.001615       0.212507       0.218838     -1.195442   \n",
       "9       0.198850  0.001658       0.195601       0.202099     -1.212265   \n",
       "12      0.266141  0.001551       0.263100       0.269182     -1.144974   \n",
       "...          ...       ...            ...            ...           ...   \n",
       "499994  0.429304  0.002870       0.423679       0.434929     -0.981819   \n",
       "499995  0.281511  0.001560       0.278453       0.284569     -1.129604   \n",
       "499997  0.163536  0.001817       0.159974       0.167098     -1.247580   \n",
       "499998  0.198823  0.001658       0.195573       0.202073     -1.212292   \n",
       "499999  0.870094  0.004969       0.860356       0.879832     -0.541051   \n",
       "\n",
       "        obs_ci_upper  \n",
       "1           1.559498  \n",
       "5           1.542675  \n",
       "6           1.626788  \n",
       "9           1.609965  \n",
       "12          1.677256  \n",
       "...              ...  \n",
       "499994      1.840427  \n",
       "499995      1.692626  \n",
       "499997      1.574652  \n",
       "499998      1.609938  \n",
       "499999      2.281239  \n",
       "\n",
       "[270830 rows x 6 columns]"
      ]
     },
     "execution_count": 573,
     "metadata": {},
     "output_type": "execute_result"
    }
   ],
   "source": [
    "# get prediction results\n",
    "civ6_trimmed_prediction = civ6_trimmed_model.get_prediction(X2_test)\n",
    "civ6_trimmed_prediction_summary = civ6_trimmed_prediction.summary_frame()\n",
    "civ6_trimmed_prediction_summary"
   ]
  },
  {
   "cell_type": "code",
   "execution_count": 574,
   "metadata": {},
   "outputs": [
    {
     "data": {
      "text/plain": [
       "1        -0.148381\n",
       "5        -0.131559\n",
       "6        -0.215673\n",
       "9        -0.198850\n",
       "12       -0.266141\n",
       "            ...   \n",
       "499994    1.570696\n",
       "499995   -0.281511\n",
       "499997   -0.163536\n",
       "499998   -0.198823\n",
       "499999   -0.870094\n",
       "Length: 270830, dtype: float64"
      ]
     },
     "execution_count": 574,
     "metadata": {},
     "output_type": "execute_result"
    }
   ],
   "source": [
    "# define y predictions and calculate residuals\n",
    "y2_pred = civ6_trimmed_prediction_summary['mean']\n",
    "residual_2 = y2_test['Purchased_DLCs'] - y2_pred\n",
    "residual_2"
   ]
  },
  {
   "cell_type": "code",
   "execution_count": 575,
   "metadata": {},
   "outputs": [
    {
     "data": {
      "text/plain": [
       "2.271364755950842e-14"
      ]
     },
     "execution_count": 575,
     "metadata": {},
     "output_type": "execute_result"
    }
   ],
   "source": [
    "# Check for mean of residuals\n",
    "residual_2.mean()"
   ]
  },
  {
   "cell_type": "code",
   "execution_count": 577,
   "metadata": {},
   "outputs": [
    {
     "data": {
      "image/png": "[encoded data removed]",
      "text/plain": [
       "<Figure size 1440x720 with 1 Axes>"
      ]
     },
     "metadata": {},
     "output_type": "display_data"
    }
   ],
   "source": [
    "# plot residual errors of regression\n",
    "plt.xlabel('Predicted Purchased DLCs', fontsize=20)\n",
    "plt.ylabel('Residual Error of Regression', fontsize=20)\n",
    "plt.scatter(y2_test['Purchased_DLCs'], residual_2)\n",
    "plt.show()"
   ]
  },
  {
   "cell_type": "code",
   "execution_count": 578,
   "metadata": {},
   "outputs": [
    {
     "data": {
      "text/plain": [
       "[('Skewness', 1836756.9269111871),\n",
       " ('Kurtosis', 0.0),\n",
       " ('Chi-square p-value', 2.934844719925102)]"
      ]
     },
     "execution_count": 578,
     "metadata": {},
     "output_type": "execute_result"
    }
   ],
   "source": [
    "# Test for nomality of residual errors by measuring skewness and kurtosis\n",
    "# desirable skewness is 0 and desirable kurtosis is 3, which represents perfectly normal distribution \n",
    "jb_test_parameters = ['Skewness', 'Kurtosis', 'Chi-square p-value']\n",
    "jb_test_values = sms.jarque_bera(residual_2)\n",
    "lzip(jb_test_parameters, jb_test_values)"
   ]
  },
  {
   "cell_type": "code",
   "execution_count": 579,
   "metadata": {},
   "outputs": [
    {
     "data": {
      "image/png": "[encoded data removed]",
      "text/plain": [
       "<Figure size 1440x720 with 1 Axes>"
      ]
     },
     "metadata": {},
     "output_type": "display_data"
    }
   ],
   "source": [
    "# test normality of residual errors visually - plot method 1\n",
    "resid2_plot = residual_2.hist(bins=50)\n",
    "resid2_plot = plt.title('Frequency Distribution of Residual Errors',size=24)\n",
    "plt.show()"
   ]
  },
  {
   "cell_type": "code",
   "execution_count": 581,
   "metadata": {},
   "outputs": [
    {
     "data": {
      "image/png": "[encoded data removed]",
      "text/plain": [
       "<Figure size 360x360 with 1 Axes>"
      ]
     },
     "metadata": {},
     "output_type": "display_data"
    }
   ],
   "source": [
    "# test normality of residual errors visually - plot method 2\n",
    "resid2_plot_2 = sns.displot(residual_2,kde=True)\n",
    "resid2_plot_2 = plt.title('Normality of Residual Errors')"
   ]
  },
  {
   "cell_type": "code",
   "execution_count": 583,
   "metadata": {},
   "outputs": [
    {
     "data": {
      "text/plain": [
       "[('F-stat', 15279.682750442871), ('F-test p-value', 0.0)]"
      ]
     },
     "execution_count": 583,
     "metadata": {},
     "output_type": "execute_result"
    }
   ],
   "source": [
    "# test homoscedasticity of residual errors\n",
    "w_test_parameters = ['F-stat', 'F-test p-value']\n",
    "w_test_values = het_white(residual_2, X2_test)\n",
    "lzip(w_test_parameters, w_test_values)"
   ]
  },
  {
   "cell_type": "code",
   "execution_count": 587,
   "metadata": {},
   "outputs": [
    {
     "name": "stdout",
     "output_type": "stream",
     "text": [
      "        Active_Days  Extension_Packs  Install_Distance\n",
      "1                 3                0               441\n",
      "5                 2                0               441\n",
      "6                 7                0               441\n",
      "7                 7                1               547\n",
      "9                 6                0               441\n",
      "...             ...              ...               ...\n",
      "499995           11                0               387\n",
      "499996            2                0               379\n",
      "499997            4                0               379\n",
      "499998            6                0               440\n",
      "499999           46                0               379\n",
      "\n",
      "[386932 rows x 3 columns]\n",
      "1         0\n",
      "5         0\n",
      "6         0\n",
      "7         0\n",
      "9         0\n",
      "         ..\n",
      "499995    0\n",
      "499996    0\n",
      "499997    0\n",
      "499998    0\n",
      "499999    0\n",
      "Name: Purchased_DLCs, Length: 386932, dtype: int64\n",
      "R^2 value is 0.06354516404244848\n",
      "Coefficients are [ 1.69551246e-02 -1.78726687e-02  3.04024809e-05]\n",
      "Intercept is  0.08273221755534829\n"
     ]
    }
   ],
   "source": [
    "# Method 2: using Sci-Kit Learn (sklearn)\n",
    "trimmed_x1 = all_var_trimmed['Active_Days']\n",
    "trimmed_x2 = all_var_trimmed['Extension_Packs']\n",
    "trimmed_x3 = all_var_trimmed['Install_Distance']\n",
    "X_2 = pd.concat([trimmed_x1,trimmed_x2,trimmed_x3], axis =1)\n",
    "Y_2 = all_var_trimmed['Purchased_DLCs']\n",
    "print(X_2)\n",
    "print(Y_2)\n",
    "civ6_trimmed_reg_model = linear_model.LinearRegression()\n",
    "civ6_trimmed_reg_model.fit(X_2, Y_2)\n",
    "\n",
    "print('R^2 value is', civ6_trimmed_reg_model.score(X_2, Y_2))\n",
    "print('Coefficients are', civ6_trimmed_reg_model.coef_)\n",
    "print('Intercept is ', civ6_trimmed_reg_model.intercept_)"
   ]
  },
  {
   "cell_type": "code",
   "execution_count": 589,
   "metadata": {},
   "outputs": [
    {
     "name": "stdout",
     "output_type": "stream",
     "text": [
      "Multiple Regression Equation of CIV6 Players after removing the outliers is:\n",
      " Y_2 = 0.083 + 0.01696*x1 + 0.0179*x2 + 0.00003*x3\n"
     ]
    }
   ],
   "source": [
    "print(\"Multiple Regression Equation of CIV6 Players after removing the outliers is:\\n\", \"Y_2 = 0.083 + 0.01696*x1 + 0.0179*x2 + 0.00003*x3\") "
   ]
  },
  {
   "cell_type": "markdown",
   "metadata": {},
   "source": [
    "# Q4: Which model is better Q1 or Q3? Why? "
   ]
  },
  {
   "cell_type": "markdown",
   "metadata": {},
   "source": [
    "> Comparing the two models in question 1 and 3, intuitively I would definitely think that the model from question 3 might delivers better performance. Since we have the outliers cutted out, it should be a better fit. But suprisingly, when looking at the R-square value, the later model for question 3 (R^2 = 0.0635) is less than half of the model for question 1 (R^2 = 0.17). On the other hand, the mean / normality / homoscedasticity of the residuals of Q3 model doesn't seem to outperform the Q1 moel residuals. Thus, if we are to merely consider the R-square value and the predicted residual values, then Q1 model has a slight better performance. But if we are to flow the common steps of data processing and regression model developing, then it is important to apply some data cleaning piror to further processing and modeling."
   ]
  }
 ],
 "metadata": {
  "kernelspec": {
   "display_name": "Python 3",
   "language": "python",
   "name": "python3"
  },
  "language_info": {
   "codemirror_mode": {
    "name": "ipython",
    "version": 3
   },
   "file_extension": ".py",
   "mimetype": "text/x-python",
   "name": "python",
   "nbconvert_exporter": "python",
   "pygments_lexer": "ipython3",
   "version": "3.8.5"
  }
 },
 "nbformat": 4,
 "nbformat_minor": 4
}
